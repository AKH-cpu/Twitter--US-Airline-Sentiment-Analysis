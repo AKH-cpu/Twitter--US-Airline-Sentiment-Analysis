{
 "cells": [
  {
   "cell_type": "markdown",
   "id": "5b84990c",
   "metadata": {},
   "source": [
    "\n",
    "<h1><center>Projet de l’Analyse de Données : text mining dans les tweets</center></h1>\n",
    "\n"
   ]
  },
  {
   "cell_type": "markdown",
   "id": "cf04f17d",
   "metadata": {},
   "source": [
    "***"
   ]
  },
  {
   "cell_type": "markdown",
   "id": "8932c44c",
   "metadata": {},
   "source": [
    "__Réalisé Par:__                                            \n",
    " - AKHADAM Ayoub                                            \n",
    " - OULAHBIB Idriss\n",
    " \n",
    "__5 juil 2021__"
   ]
  },
  {
   "cell_type": "markdown",
   "id": "6ea6efd1",
   "metadata": {},
   "source": [
    "***"
   ]
  },
  {
   "cell_type": "markdown",
   "id": "8e46385a",
   "metadata": {},
   "source": [
    "## Introduction\n",
    "    \n",
    "L'objectif du projet \"text mining dans les tweets\" est d'analyser des données textuelles en se basant sur le jeu de \n",
    "données \"airline sentiment analysis\" issu de Twitter. Ces données contiennent des tweets sur les compagnies aériennes \n",
    "classés en tweets positifs, négatifs et neutres.\n",
    "Le but est donc analyser ces données pour trouver les meilleurs et les pires compagnies aériennes et aussi comprendre les raisons pour lesquelles certaines compagnies aériennes sont commentées négativement."
   ]
  },
  {
   "cell_type": "markdown",
   "id": "8f1584c6",
   "metadata": {},
   "source": [
    "## Données \n",
    "    - Le jeu des données est disponible sur : https://www.kaggle.com/welkin10/airline-sentiment-analysis/data\n",
    "    - Le jeu des données contient : 15 variables et 14640 tweets.\n",
    "    - Le jeu de données est composé des champs suivants:\n",
    "        . tweet_id : l'identifiant de tweet\n",
    "        . airline_sentiment : le sentiment de client\n",
    "        . airline_sentiment_confidence : précision de detection de sentiment\n",
    "        . negativereason : la raison d'un négative tweet\n",
    "        . negativereason_confidence: précision de detection de la raison\n",
    "        . airline : nom de la compagnie aérienne\n",
    "        . airline_sentiment_gold : NA\n",
    "        . name : nom de tweeteur\n",
    "        . negativereason_gold : NA\n",
    "        . retweet_count : nombre de retweets\n",
    "        . text : le text de tweet\n",
    "        . tweet_coord : la géolocalisation du tweeteur\n",
    "        . tweet_created : la date de création de tweet\n",
    "        . tweet_location : state de tweet\n",
    "        . user_timezone : la zone temporaire du tweeteur.\n"
   ]
  },
  {
   "cell_type": "markdown",
   "id": "09a5d55a",
   "metadata": {},
   "source": [
    "##  Hypothèses et questions\n",
    "       Les réseaux sociaux tels que Twitter ont un rôle important pour l'échange des avis sur différents sujets. Dans notre \n",
    "    cas, les clients partagent leurs expériences dans des vols américains. Nous pensons que les personnes ont une tendance \n",
    "    à laisser des avis négatifs que des avis positifs et cela peut être expliqué par le fait que les personnes cherchent à \n",
    "    prévenir d'autres clients de ne pas vivre  la même mauvaise expérience ou peut-être espèrent voir une amélioration.Pour \n",
    "    cela Nous émettons l'hypothèse  que la majorité des commentaires vont être négatives,nous supposons aussi que les \n",
    "    raisons de ces commentaires négatifs peuvent être par exemple une annulation ou un retard des vols.\n",
    "       Donc avant de commençer l'analyse nous pouvons poser les questions suivantes:\n",
    "    Q1 - Quel type de commentaire le plus dominant ?\n",
    "    Q2 - Quelles compagnies aériennes sont les plus commentées négativement et positivement?\n",
    "    Q3 - Quels sont les problèmes les plus courants en cas d'un mauvais vol ?\n",
    "    Q4 - Quels mots sont les plus répandus, pour tous les commentaires positifs et négatifs et neutres?"
   ]
  },
  {
   "cell_type": "markdown",
   "id": "3c99d27d",
   "metadata": {},
   "source": [
    "## Text mining\n",
    "\n",
    "    Text mining est l'analyse des données « non structurées » contenues dans le texte de langage naturel en utilisant différentes méthodes et outils.Il consiste à analyser les corpus de textes de manière à en reconnaître les mots, les phrases, et les relations et les sens de ces derniers entre eux pour extraire de l’information. "
   ]
  },
  {
   "cell_type": "markdown",
   "id": "a7986554",
   "metadata": {},
   "source": [
    "## Méthodes d'analyse des données\n",
    "    Le présent rapport contient les méthodes d'analyse des données suivantes:\n",
    "    \n",
    "    - AFC\n",
    "    - Classification héarchique"
   ]
  },
  {
   "cell_type": "markdown",
   "id": "de0caa34",
   "metadata": {},
   "source": [
    "***\n",
    "## Chargement des packages nécessaires\n",
    "***"
   ]
  },
  {
   "cell_type": "code",
   "execution_count": 86,
   "id": "c23bee1a",
   "metadata": {},
   "outputs": [],
   "source": [
    "options(warn=-1)\n",
    "library(dplyr);library(ggplot2)\n",
    "\n",
    "library(tm);library(RColorBrewer);library(SnowballC);library(wordcloud)\n",
    "\n",
    "library(FactoMineR);library(factoextra);"
   ]
  },
  {
   "cell_type": "markdown",
   "id": "0476e74c",
   "metadata": {},
   "source": [
    "# 1 - Aperçu sur les données"
   ]
  },
  {
   "cell_type": "code",
   "execution_count": 87,
   "id": "e64a1697",
   "metadata": {},
   "outputs": [],
   "source": [
    "# Chargement des données\n",
    "setwd('C:/Users/AKH/Desktop/SDAD/S2/Analyse des données/Projet/data/')\n",
    "data <- read.csv(\"Tweets.csv\")"
   ]
  },
  {
   "cell_type": "code",
   "execution_count": 88,
   "id": "bddbbb47",
   "metadata": {},
   "outputs": [
    {
     "data": {
      "text/html": [
       "<style>\n",
       ".list-inline {list-style: none; margin:0; padding: 0}\n",
       ".list-inline>li {display: inline-block}\n",
       ".list-inline>li:not(:last-child)::after {content: \"\\00b7\"; padding: 0 .5ex}\n",
       "</style>\n",
       "<ol class=list-inline><li>14640</li><li>15</li></ol>\n"
      ],
      "text/latex": [
       "\\begin{enumerate*}\n",
       "\\item 14640\n",
       "\\item 15\n",
       "\\end{enumerate*}\n"
      ],
      "text/markdown": [
       "1. 14640\n",
       "2. 15\n",
       "\n",
       "\n"
      ],
      "text/plain": [
       "[1] 14640    15"
      ]
     },
     "metadata": {},
     "output_type": "display_data"
    }
   ],
   "source": [
    "dim(data) "
   ]
  },
  {
   "cell_type": "code",
   "execution_count": 89,
   "id": "15463d9f",
   "metadata": {},
   "outputs": [
    {
     "data": {
      "text/html": [
       "<table class=\"dataframe\">\n",
       "<caption>A data.frame: 6 × 15</caption>\n",
       "<thead>\n",
       "\t<tr><th></th><th scope=col>tweet_id</th><th scope=col>airline_sentiment</th><th scope=col>airline_sentiment_confidence</th><th scope=col>negativereason</th><th scope=col>negativereason_confidence</th><th scope=col>airline</th><th scope=col>airline_sentiment_gold</th><th scope=col>name</th><th scope=col>negativereason_gold</th><th scope=col>retweet_count</th><th scope=col>text</th><th scope=col>tweet_coord</th><th scope=col>tweet_created</th><th scope=col>tweet_location</th><th scope=col>user_timezone</th></tr>\n",
       "\t<tr><th></th><th scope=col>&lt;dbl&gt;</th><th scope=col>&lt;chr&gt;</th><th scope=col>&lt;dbl&gt;</th><th scope=col>&lt;chr&gt;</th><th scope=col>&lt;dbl&gt;</th><th scope=col>&lt;chr&gt;</th><th scope=col>&lt;chr&gt;</th><th scope=col>&lt;chr&gt;</th><th scope=col>&lt;chr&gt;</th><th scope=col>&lt;int&gt;</th><th scope=col>&lt;chr&gt;</th><th scope=col>&lt;chr&gt;</th><th scope=col>&lt;chr&gt;</th><th scope=col>&lt;chr&gt;</th><th scope=col>&lt;chr&gt;</th></tr>\n",
       "</thead>\n",
       "<tbody>\n",
       "\t<tr><th scope=row>1</th><td>5.703061e+17</td><td>neutral </td><td>1.0000</td><td><span style=white-space:pre-wrap>          </span></td><td><span style=white-space:pre-wrap>    NA</span></td><td>Virgin America</td><td></td><td><span style=white-space:pre-wrap>cairdin   </span></td><td></td><td>0</td><td><span style=white-space:pre-wrap>@VirginAmerica What @dhepburn said.                                                                                                     </span></td><td></td><td>2015-02-24 11:35:52 -0800</td><td><span style=white-space:pre-wrap>         </span></td><td>Eastern Time (US &amp; Canada)</td></tr>\n",
       "\t<tr><th scope=row>2</th><td>5.703011e+17</td><td>positive</td><td>0.3486</td><td><span style=white-space:pre-wrap>          </span></td><td>0.0000</td><td>Virgin America</td><td></td><td><span style=white-space:pre-wrap>jnardino  </span></td><td></td><td>0</td><td><span style=white-space:pre-wrap>@VirginAmerica plus you've added commercials to the experience... tacky.                                                                </span></td><td></td><td>2015-02-24 11:15:59 -0800</td><td><span style=white-space:pre-wrap>         </span></td><td>Pacific Time (US &amp; Canada)</td></tr>\n",
       "\t<tr><th scope=row>3</th><td>5.703011e+17</td><td>neutral </td><td>0.6837</td><td><span style=white-space:pre-wrap>          </span></td><td><span style=white-space:pre-wrap>    NA</span></td><td>Virgin America</td><td></td><td>yvonnalynn</td><td></td><td>0</td><td><span style=white-space:pre-wrap>@VirginAmerica I didn't today... Must mean I need to take another trip!                                                                 </span></td><td></td><td>2015-02-24 11:15:48 -0800</td><td>Lets Play</td><td>Central Time (US &amp; Canada)</td></tr>\n",
       "\t<tr><th scope=row>4</th><td>5.703010e+17</td><td>negative</td><td>1.0000</td><td>Bad Flight</td><td>0.7033</td><td>Virgin America</td><td></td><td><span style=white-space:pre-wrap>jnardino  </span></td><td></td><td>0</td><td><span style=white-space:pre-wrap>@VirginAmerica it's really aggressive to blast obnoxious \"entertainment\" in your guests' faces &amp;amp; they have little recourse          </span></td><td></td><td>2015-02-24 11:15:36 -0800</td><td><span style=white-space:pre-wrap>         </span></td><td>Pacific Time (US &amp; Canada)</td></tr>\n",
       "\t<tr><th scope=row>5</th><td>5.703008e+17</td><td>negative</td><td>1.0000</td><td>Can't Tell</td><td>1.0000</td><td>Virgin America</td><td></td><td><span style=white-space:pre-wrap>jnardino  </span></td><td></td><td>0</td><td><span style=white-space:pre-wrap>@VirginAmerica and it's a really big bad thing about it                                                                                 </span></td><td></td><td>2015-02-24 11:14:45 -0800</td><td><span style=white-space:pre-wrap>         </span></td><td>Pacific Time (US &amp; Canada)</td></tr>\n",
       "\t<tr><th scope=row>6</th><td>5.703008e+17</td><td>negative</td><td>1.0000</td><td>Can't Tell</td><td>0.6842</td><td>Virgin America</td><td></td><td><span style=white-space:pre-wrap>jnardino  </span></td><td></td><td>0</td><td>@VirginAmerica seriously would pay $30 a flight for seats that didn't have this playing.\n",
       "it's really the only bad thing about flying VA</td><td></td><td>2015-02-24 11:14:33 -0800</td><td><span style=white-space:pre-wrap>         </span></td><td>Pacific Time (US &amp; Canada)</td></tr>\n",
       "</tbody>\n",
       "</table>\n"
      ],
      "text/latex": [
       "A data.frame: 6 × 15\n",
       "\\begin{tabular}{r|lllllllllllllll}\n",
       "  & tweet\\_id & airline\\_sentiment & airline\\_sentiment\\_confidence & negativereason & negativereason\\_confidence & airline & airline\\_sentiment\\_gold & name & negativereason\\_gold & retweet\\_count & text & tweet\\_coord & tweet\\_created & tweet\\_location & user\\_timezone\\\\\n",
       "  & <dbl> & <chr> & <dbl> & <chr> & <dbl> & <chr> & <chr> & <chr> & <chr> & <int> & <chr> & <chr> & <chr> & <chr> & <chr>\\\\\n",
       "\\hline\n",
       "\t1 & 5.703061e+17 & neutral  & 1.0000 &            &     NA & Virgin America &  & cairdin    &  & 0 & @VirginAmerica What @dhepburn said.                                                                                                      &  & 2015-02-24 11:35:52 -0800 &           & Eastern Time (US \\& Canada)\\\\\n",
       "\t2 & 5.703011e+17 & positive & 0.3486 &            & 0.0000 & Virgin America &  & jnardino   &  & 0 & @VirginAmerica plus you've added commercials to the experience... tacky.                                                                 &  & 2015-02-24 11:15:59 -0800 &           & Pacific Time (US \\& Canada)\\\\\n",
       "\t3 & 5.703011e+17 & neutral  & 0.6837 &            &     NA & Virgin America &  & yvonnalynn &  & 0 & @VirginAmerica I didn't today... Must mean I need to take another trip!                                                                  &  & 2015-02-24 11:15:48 -0800 & Lets Play & Central Time (US \\& Canada)\\\\\n",
       "\t4 & 5.703010e+17 & negative & 1.0000 & Bad Flight & 0.7033 & Virgin America &  & jnardino   &  & 0 & @VirginAmerica it's really aggressive to blast obnoxious \"entertainment\" in your guests' faces \\&amp; they have little recourse           &  & 2015-02-24 11:15:36 -0800 &           & Pacific Time (US \\& Canada)\\\\\n",
       "\t5 & 5.703008e+17 & negative & 1.0000 & Can't Tell & 1.0000 & Virgin America &  & jnardino   &  & 0 & @VirginAmerica and it's a really big bad thing about it                                                                                  &  & 2015-02-24 11:14:45 -0800 &           & Pacific Time (US \\& Canada)\\\\\n",
       "\t6 & 5.703008e+17 & negative & 1.0000 & Can't Tell & 0.6842 & Virgin America &  & jnardino   &  & 0 & @VirginAmerica seriously would pay \\$30 a flight for seats that didn't have this playing.\n",
       "it's really the only bad thing about flying VA &  & 2015-02-24 11:14:33 -0800 &           & Pacific Time (US \\& Canada)\\\\\n",
       "\\end{tabular}\n"
      ],
      "text/markdown": [
       "\n",
       "A data.frame: 6 × 15\n",
       "\n",
       "| <!--/--> | tweet_id &lt;dbl&gt; | airline_sentiment &lt;chr&gt; | airline_sentiment_confidence &lt;dbl&gt; | negativereason &lt;chr&gt; | negativereason_confidence &lt;dbl&gt; | airline &lt;chr&gt; | airline_sentiment_gold &lt;chr&gt; | name &lt;chr&gt; | negativereason_gold &lt;chr&gt; | retweet_count &lt;int&gt; | text &lt;chr&gt; | tweet_coord &lt;chr&gt; | tweet_created &lt;chr&gt; | tweet_location &lt;chr&gt; | user_timezone &lt;chr&gt; |\n",
       "|---|---|---|---|---|---|---|---|---|---|---|---|---|---|---|---|\n",
       "| 1 | 5.703061e+17 | neutral  | 1.0000 | <!----> |     NA | Virgin America | <!----> | cairdin    | <!----> | 0 | @VirginAmerica What @dhepburn said.                                                                                                      | <!----> | 2015-02-24 11:35:52 -0800 | <!----> | Eastern Time (US &amp; Canada) |\n",
       "| 2 | 5.703011e+17 | positive | 0.3486 | <!----> | 0.0000 | Virgin America | <!----> | jnardino   | <!----> | 0 | @VirginAmerica plus you've added commercials to the experience... tacky.                                                                 | <!----> | 2015-02-24 11:15:59 -0800 | <!----> | Pacific Time (US &amp; Canada) |\n",
       "| 3 | 5.703011e+17 | neutral  | 0.6837 | <!----> |     NA | Virgin America | <!----> | yvonnalynn | <!----> | 0 | @VirginAmerica I didn't today... Must mean I need to take another trip!                                                                  | <!----> | 2015-02-24 11:15:48 -0800 | Lets Play | Central Time (US &amp; Canada) |\n",
       "| 4 | 5.703010e+17 | negative | 1.0000 | Bad Flight | 0.7033 | Virgin America | <!----> | jnardino   | <!----> | 0 | @VirginAmerica it's really aggressive to blast obnoxious \"entertainment\" in your guests' faces &amp;amp; they have little recourse           | <!----> | 2015-02-24 11:15:36 -0800 | <!----> | Pacific Time (US &amp; Canada) |\n",
       "| 5 | 5.703008e+17 | negative | 1.0000 | Can't Tell | 1.0000 | Virgin America | <!----> | jnardino   | <!----> | 0 | @VirginAmerica and it's a really big bad thing about it                                                                                  | <!----> | 2015-02-24 11:14:45 -0800 | <!----> | Pacific Time (US &amp; Canada) |\n",
       "| 6 | 5.703008e+17 | negative | 1.0000 | Can't Tell | 0.6842 | Virgin America | <!----> | jnardino   | <!----> | 0 | @VirginAmerica seriously would pay $30 a flight for seats that didn't have this playing.\n",
       "it's really the only bad thing about flying VA | <!----> | 2015-02-24 11:14:33 -0800 | <!----> | Pacific Time (US &amp; Canada) |\n",
       "\n"
      ],
      "text/plain": [
       "  tweet_id     airline_sentiment airline_sentiment_confidence negativereason\n",
       "1 5.703061e+17 neutral           1.0000                                     \n",
       "2 5.703011e+17 positive          0.3486                                     \n",
       "3 5.703011e+17 neutral           0.6837                                     \n",
       "4 5.703010e+17 negative          1.0000                       Bad Flight    \n",
       "5 5.703008e+17 negative          1.0000                       Can't Tell    \n",
       "6 5.703008e+17 negative          1.0000                       Can't Tell    \n",
       "  negativereason_confidence airline        airline_sentiment_gold name      \n",
       "1     NA                    Virgin America                        cairdin   \n",
       "2 0.0000                    Virgin America                        jnardino  \n",
       "3     NA                    Virgin America                        yvonnalynn\n",
       "4 0.7033                    Virgin America                        jnardino  \n",
       "5 1.0000                    Virgin America                        jnardino  \n",
       "6 0.6842                    Virgin America                        jnardino  \n",
       "  negativereason_gold retweet_count\n",
       "1                     0            \n",
       "2                     0            \n",
       "3                     0            \n",
       "4                     0            \n",
       "5                     0            \n",
       "6                     0            \n",
       "  text                                                                                                                                    \n",
       "1 @VirginAmerica What @dhepburn said.                                                                                                     \n",
       "2 @VirginAmerica plus you've added commercials to the experience... tacky.                                                                \n",
       "3 @VirginAmerica I didn't today... Must mean I need to take another trip!                                                                 \n",
       "4 @VirginAmerica it's really aggressive to blast obnoxious \"entertainment\" in your guests' faces &amp; they have little recourse          \n",
       "5 @VirginAmerica and it's a really big bad thing about it                                                                                 \n",
       "6 @VirginAmerica seriously would pay $30 a flight for seats that didn't have this playing.\\nit's really the only bad thing about flying VA\n",
       "  tweet_coord tweet_created             tweet_location\n",
       "1             2015-02-24 11:35:52 -0800               \n",
       "2             2015-02-24 11:15:59 -0800               \n",
       "3             2015-02-24 11:15:48 -0800 Lets Play     \n",
       "4             2015-02-24 11:15:36 -0800               \n",
       "5             2015-02-24 11:14:45 -0800               \n",
       "6             2015-02-24 11:14:33 -0800               \n",
       "  user_timezone             \n",
       "1 Eastern Time (US & Canada)\n",
       "2 Pacific Time (US & Canada)\n",
       "3 Central Time (US & Canada)\n",
       "4 Pacific Time (US & Canada)\n",
       "5 Pacific Time (US & Canada)\n",
       "6 Pacific Time (US & Canada)"
      ]
     },
     "metadata": {},
     "output_type": "display_data"
    }
   ],
   "source": [
    "# l'entête \n",
    "head(data)"
   ]
  },
  {
   "cell_type": "code",
   "execution_count": 90,
   "id": "f7c246bc",
   "metadata": {},
   "outputs": [
    {
     "data": {
      "text/html": [
       "<style>\n",
       ".list-inline {list-style: none; margin:0; padding: 0}\n",
       ".list-inline>li {display: inline-block}\n",
       ".list-inline>li:not(:last-child)::after {content: \"\\00b7\"; padding: 0 .5ex}\n",
       "</style>\n",
       "<ol class=list-inline><li>'Virgin America'</li><li>'United'</li><li>'Southwest'</li><li>'Delta'</li><li>'US Airways'</li><li>'American'</li></ol>\n"
      ],
      "text/latex": [
       "\\begin{enumerate*}\n",
       "\\item 'Virgin America'\n",
       "\\item 'United'\n",
       "\\item 'Southwest'\n",
       "\\item 'Delta'\n",
       "\\item 'US Airways'\n",
       "\\item 'American'\n",
       "\\end{enumerate*}\n"
      ],
      "text/markdown": [
       "1. 'Virgin America'\n",
       "2. 'United'\n",
       "3. 'Southwest'\n",
       "4. 'Delta'\n",
       "5. 'US Airways'\n",
       "6. 'American'\n",
       "\n",
       "\n"
      ],
      "text/plain": [
       "[1] \"Virgin America\" \"United\"         \"Southwest\"      \"Delta\"         \n",
       "[5] \"US Airways\"     \"American\"      "
      ]
     },
     "metadata": {},
     "output_type": "display_data"
    }
   ],
   "source": [
    "unique(data[,'airline'])"
   ]
  },
  {
   "cell_type": "markdown",
   "id": "ca059a4a",
   "metadata": {},
   "source": [
    "    On a six compagnies aériennes : Virgin America, United, Southwest, Delta, US Airways, American"
   ]
  },
  {
   "cell_type": "markdown",
   "id": "cda410bd",
   "metadata": {},
   "source": [
    "### La distribution sentiments par rapport a chaque classe (positive, négative, neutre)"
   ]
  },
  {
   "cell_type": "code",
   "execution_count": 91,
   "id": "b19eed21",
   "metadata": {},
   "outputs": [
    {
     "data": {
      "image/png": "[encoded data removed]",
      "text/plain": [
       "Plot with title \"airline sentiment distribution\""
      ]
     },
     "metadata": {
      "image/png": {
       "height": 600,
       "width": 900
      }
     },
     "output_type": "display_data"
    }
   ],
   "source": [
    "library(RColorBrewer)\n",
    "coul <- brewer.pal(3, \"Set1\") \n",
    "# La distribution sentiments par rapport a chaque classe (positive, négative, neutre)\n",
    "t = table(data$airline_sentiment)\n",
    "barplot(t, main=\"airline sentiment distribution\", xlab=\"Airline sentiment\",col=coul)"
   ]
  },
  {
   "cell_type": "markdown",
   "id": "75bf2ddc",
   "metadata": {},
   "source": [
    "    => Le jeu de données contient plus de sentiments négatifs que de sentiments positifs et neutres. \n",
    "     Comme certains tweets positifs et des tweets neutres ont pas pas une valeur de confiance de 1 \n",
    "     (airline_sentiment_confidence) , nous pouvons affirmer qu'il y a plus de tweets négatifs."
   ]
  },
  {
   "cell_type": "markdown",
   "id": "1e575c6a",
   "metadata": {},
   "source": [
    "###  La distribution des sentiments par rapport a chaque compagnie aérienne."
   ]
  },
  {
   "cell_type": "code",
   "execution_count": 92,
   "id": "9dd29203",
   "metadata": {},
   "outputs": [
    {
     "data": {
      "image/png": "[encoded data removed]",
      "text/plain": [
       "plot without title"
      ]
     },
     "metadata": {
      "image/png": {
       "height": 600,
       "width": 900
      }
     },
     "output_type": "display_data"
    }
   ],
   "source": [
    "options(repr.plot.width=15, repr.plot.height=10)\n",
    "\n",
    "# La distribution sentiments par rapport a chaque compagnie aérienne.\n",
    "data_negativereason_exist <- data %>% filter(data$negativereason != \"\") \n",
    "count_airline_sentiment <- data %>% group_by(airline_sentiment, airline) %>% count()\n",
    "ggplot(count_airline_sentiment, aes(fill=airline_sentiment, y=n, x=airline)) + \n",
    "    geom_bar(position=\"dodge\", stat=\"identity\")"
   ]
  },
  {
   "cell_type": "markdown",
   "id": "ef6f9dd8",
   "metadata": {},
   "source": [
    "    - Les compagnies aériennes les plus commentées négativement sont: United, US Airways et American.\n",
    "    - Soutwest est la compagnie qui a plus des tweets positifs.\n",
    "    - Virgin America receoit moins des tweets négatifs."
   ]
  },
  {
   "cell_type": "markdown",
   "id": "991cd1b2",
   "metadata": {},
   "source": [
    "#### Les raisons des avis négatives"
   ]
  },
  {
   "cell_type": "code",
   "execution_count": 93,
   "id": "3de87477",
   "metadata": {},
   "outputs": [
    {
     "data": {
      "text/html": [
       "<table class=\"dataframe\">\n",
       "<caption>A grouped_df: 10 × 2</caption>\n",
       "<thead>\n",
       "\t<tr><th scope=col>negativereason</th><th scope=col>n</th></tr>\n",
       "\t<tr><th scope=col>&lt;chr&gt;</th><th scope=col>&lt;int&gt;</th></tr>\n",
       "</thead>\n",
       "<tbody>\n",
       "\t<tr><td>Bad Flight                 </td><td> 580</td></tr>\n",
       "\t<tr><td>Can't Tell                 </td><td>1190</td></tr>\n",
       "\t<tr><td>Cancelled Flight           </td><td> 847</td></tr>\n",
       "\t<tr><td>Customer Service Issue     </td><td>2910</td></tr>\n",
       "\t<tr><td>Damaged Luggage            </td><td>  74</td></tr>\n",
       "\t<tr><td>Flight Attendant Complaints</td><td> 481</td></tr>\n",
       "\t<tr><td>Flight Booking Problems    </td><td> 529</td></tr>\n",
       "\t<tr><td>Late Flight                </td><td>1665</td></tr>\n",
       "\t<tr><td>longlines                  </td><td> 178</td></tr>\n",
       "\t<tr><td>Lost Luggage               </td><td> 724</td></tr>\n",
       "</tbody>\n",
       "</table>\n"
      ],
      "text/latex": [
       "A grouped\\_df: 10 × 2\n",
       "\\begin{tabular}{ll}\n",
       " negativereason & n\\\\\n",
       " <chr> & <int>\\\\\n",
       "\\hline\n",
       "\t Bad Flight                  &  580\\\\\n",
       "\t Can't Tell                  & 1190\\\\\n",
       "\t Cancelled Flight            &  847\\\\\n",
       "\t Customer Service Issue      & 2910\\\\\n",
       "\t Damaged Luggage             &   74\\\\\n",
       "\t Flight Attendant Complaints &  481\\\\\n",
       "\t Flight Booking Problems     &  529\\\\\n",
       "\t Late Flight                 & 1665\\\\\n",
       "\t longlines                   &  178\\\\\n",
       "\t Lost Luggage                &  724\\\\\n",
       "\\end{tabular}\n"
      ],
      "text/markdown": [
       "\n",
       "A grouped_df: 10 × 2\n",
       "\n",
       "| negativereason &lt;chr&gt; | n &lt;int&gt; |\n",
       "|---|---|\n",
       "| Bad Flight                  |  580 |\n",
       "| Can't Tell                  | 1190 |\n",
       "| Cancelled Flight            |  847 |\n",
       "| Customer Service Issue      | 2910 |\n",
       "| Damaged Luggage             |   74 |\n",
       "| Flight Attendant Complaints |  481 |\n",
       "| Flight Booking Problems     |  529 |\n",
       "| Late Flight                 | 1665 |\n",
       "| longlines                   |  178 |\n",
       "| Lost Luggage                |  724 |\n",
       "\n"
      ],
      "text/plain": [
       "   negativereason              n   \n",
       "1  Bad Flight                   580\n",
       "2  Can't Tell                  1190\n",
       "3  Cancelled Flight             847\n",
       "4  Customer Service Issue      2910\n",
       "5  Damaged Luggage               74\n",
       "6  Flight Attendant Complaints  481\n",
       "7  Flight Booking Problems      529\n",
       "8  Late Flight                 1665\n",
       "9  longlines                    178\n",
       "10 Lost Luggage                 724"
      ]
     },
     "metadata": {},
     "output_type": "display_data"
    },
    {
     "data": {
      "image/png": "[encoded data removed]",
      "text/plain": [
       "plot without title"
      ]
     },
     "metadata": {
      "image/png": {
       "height": 600,
       "width": 900
      }
     },
     "output_type": "display_data"
    }
   ],
   "source": [
    "count_negative_reasons <- data_negativereason_exist %>% group_by(negativereason) %>% count()\n",
    "count_negative_reasons\n",
    "ggplot(count_negative_reasons, aes(y=n, x=reorder(negativereason, -n))) +\n",
    "    geom_bar(position=\"dodge\", stat=\"identity\")"
   ]
  },
  {
   "cell_type": "markdown",
   "id": "64a71461",
   "metadata": {},
   "source": [
    "    Les tweets négatifs sont principalement liés aux raisons suivantes :\n",
    "    1. Des problèmes dans le service client.\n",
    "    2. Le retard des vols .\n",
    "    3. L'annulation de vols."
   ]
  },
  {
   "cell_type": "markdown",
   "id": "345388d3",
   "metadata": {},
   "source": [
    "#### - airline et negativereason"
   ]
  },
  {
   "cell_type": "code",
   "execution_count": 94,
   "id": "4447233d",
   "metadata": {},
   "outputs": [
    {
     "data": {
      "image/png": "[encoded data removed]",
      "text/plain": [
       "plot without title"
      ]
     },
     "metadata": {
      "image/png": {
       "height": 600,
       "width": 900
      }
     },
     "output_type": "display_data"
    }
   ],
   "source": [
    "options(repr.plot.width=15, repr.plot.height=10)\n",
    "data_negativereason_exist <- data %>% filter(data$negativereason != \"\") \n",
    "count_negativereason<- data_negativereason_exist %>% group_by(negativereason, airline) %>% count()\n",
    "ggplot(count_negativereason, aes(fill=negativereason, y=n, x=airline)) + geom_bar(position=\"dodge\",stat=\"identity\") + \n",
    "    scale_fill_manual(values=c(\"red2\", \"royalblue1\", \"seagreen1\",\"pink\",\"yellow\", \"turquoise3\", \"orange\",\"violetred3\",\"springgreen4\",\"salmon\"))"
   ]
  },
  {
   "cell_type": "markdown",
   "id": "5977f3db",
   "metadata": {},
   "source": [
    "# 2 - Nettoyage des données "
   ]
  },
  {
   "cell_type": "markdown",
   "id": "1b3b5235",
   "metadata": {},
   "source": [
    "    Avant l'analyse des données, on peut effectuer les prétraitement suivants:\n",
    "    - Les colonnes non utiles sont supprimées.\n",
    "    - Les mots outils sont supprimés.\n",
    "    - Les mots de même racine sont concaténés.\n",
    "    - Les mots singuliers et pluriels sont regroupés.\n",
    "    - Les conjugaisons des verbes sont concaténées\n",
    "    - Les hashtags, les numéros sont supprimés.\n",
    "    - L'effectif maximal des mots est 50."
   ]
  },
  {
   "cell_type": "markdown",
   "id": "52113aeb",
   "metadata": {},
   "source": [
    "## 2.1 - Suppression des  variables inutiles\n",
    "    \n",
    "    \n",
    "    On veut supprimer les variables inutiles, donc on va sélectionner juste les variables utiles lors de l'analyse:\n",
    "    - airline_sentiment\n",
    "    - negativereason\n",
    "    - airline\n",
    "    - text"
   ]
  },
  {
   "cell_type": "code",
   "execution_count": 95,
   "id": "08f0dc60",
   "metadata": {},
   "outputs": [
    {
     "data": {
      "text/html": [
       "<table class=\"dataframe\">\n",
       "<caption>A data.frame: 6 × 4</caption>\n",
       "<thead>\n",
       "\t<tr><th></th><th scope=col>airline_sentiment</th><th scope=col>negativereason</th><th scope=col>airline</th><th scope=col>text</th></tr>\n",
       "\t<tr><th></th><th scope=col>&lt;chr&gt;</th><th scope=col>&lt;chr&gt;</th><th scope=col>&lt;chr&gt;</th><th scope=col>&lt;chr&gt;</th></tr>\n",
       "</thead>\n",
       "<tbody>\n",
       "\t<tr><th scope=row>1</th><td>neutral </td><td>          </td><td>Virgin America</td><td>@VirginAmerica What @dhepburn said.                                                                                                     </td></tr>\n",
       "\t<tr><th scope=row>2</th><td>positive</td><td>          </td><td>Virgin America</td><td>@VirginAmerica plus you've added commercials to the experience... tacky.                                                                </td></tr>\n",
       "\t<tr><th scope=row>3</th><td>neutral </td><td>          </td><td>Virgin America</td><td>@VirginAmerica I didn't today... Must mean I need to take another trip!                                                                 </td></tr>\n",
       "\t<tr><th scope=row>4</th><td>negative</td><td>Bad Flight</td><td>Virgin America</td><td><span style=white-space:pre-wrap>@VirginAmerica it's really aggressive to blast obnoxious \"entertainment\" in your guests' faces &amp;amp; they have little recourse          </span></td></tr>\n",
       "\t<tr><th scope=row>5</th><td>negative</td><td>Can't Tell</td><td>Virgin America</td><td>@VirginAmerica and it's a really big bad thing about it                                                                                 </td></tr>\n",
       "\t<tr><th scope=row>6</th><td>negative</td><td>Can't Tell</td><td>Virgin America</td><td>@VirginAmerica seriously would pay $30 a flight for seats that didn't have this playing.\n",
       "it's really the only bad thing about flying VA</td></tr>\n",
       "</tbody>\n",
       "</table>\n"
      ],
      "text/latex": [
       "A data.frame: 6 × 4\n",
       "\\begin{tabular}{r|llll}\n",
       "  & airline\\_sentiment & negativereason & airline & text\\\\\n",
       "  & <chr> & <chr> & <chr> & <chr>\\\\\n",
       "\\hline\n",
       "\t1 & neutral  &            & Virgin America & @VirginAmerica What @dhepburn said.                                                                                                     \\\\\n",
       "\t2 & positive &            & Virgin America & @VirginAmerica plus you've added commercials to the experience... tacky.                                                                \\\\\n",
       "\t3 & neutral  &            & Virgin America & @VirginAmerica I didn't today... Must mean I need to take another trip!                                                                 \\\\\n",
       "\t4 & negative & Bad Flight & Virgin America & @VirginAmerica it's really aggressive to blast obnoxious \"entertainment\" in your guests' faces \\&amp; they have little recourse          \\\\\n",
       "\t5 & negative & Can't Tell & Virgin America & @VirginAmerica and it's a really big bad thing about it                                                                                 \\\\\n",
       "\t6 & negative & Can't Tell & Virgin America & @VirginAmerica seriously would pay \\$30 a flight for seats that didn't have this playing.\n",
       "it's really the only bad thing about flying VA\\\\\n",
       "\\end{tabular}\n"
      ],
      "text/markdown": [
       "\n",
       "A data.frame: 6 × 4\n",
       "\n",
       "| <!--/--> | airline_sentiment &lt;chr&gt; | negativereason &lt;chr&gt; | airline &lt;chr&gt; | text &lt;chr&gt; |\n",
       "|---|---|---|---|---|\n",
       "| 1 | neutral  | <!----> | Virgin America | @VirginAmerica What @dhepburn said.                                                                                                      |\n",
       "| 2 | positive | <!----> | Virgin America | @VirginAmerica plus you've added commercials to the experience... tacky.                                                                 |\n",
       "| 3 | neutral  | <!----> | Virgin America | @VirginAmerica I didn't today... Must mean I need to take another trip!                                                                  |\n",
       "| 4 | negative | Bad Flight | Virgin America | @VirginAmerica it's really aggressive to blast obnoxious \"entertainment\" in your guests' faces &amp;amp; they have little recourse           |\n",
       "| 5 | negative | Can't Tell | Virgin America | @VirginAmerica and it's a really big bad thing about it                                                                                  |\n",
       "| 6 | negative | Can't Tell | Virgin America | @VirginAmerica seriously would pay $30 a flight for seats that didn't have this playing.\n",
       "it's really the only bad thing about flying VA |\n",
       "\n"
      ],
      "text/plain": [
       "  airline_sentiment negativereason airline       \n",
       "1 neutral                          Virgin America\n",
       "2 positive                         Virgin America\n",
       "3 neutral                          Virgin America\n",
       "4 negative          Bad Flight     Virgin America\n",
       "5 negative          Can't Tell     Virgin America\n",
       "6 negative          Can't Tell     Virgin America\n",
       "  text                                                                                                                                    \n",
       "1 @VirginAmerica What @dhepburn said.                                                                                                     \n",
       "2 @VirginAmerica plus you've added commercials to the experience... tacky.                                                                \n",
       "3 @VirginAmerica I didn't today... Must mean I need to take another trip!                                                                 \n",
       "4 @VirginAmerica it's really aggressive to blast obnoxious \"entertainment\" in your guests' faces &amp; they have little recourse          \n",
       "5 @VirginAmerica and it's a really big bad thing about it                                                                                 \n",
       "6 @VirginAmerica seriously would pay $30 a flight for seats that didn't have this playing.\\nit's really the only bad thing about flying VA"
      ]
     },
     "metadata": {},
     "output_type": "display_data"
    }
   ],
   "source": [
    "tweets <- select(data, airline_sentiment, negativereason, airline, text)\n",
    "head(tweets)"
   ]
  },
  {
   "cell_type": "markdown",
   "id": "64ebc31d",
   "metadata": {},
   "source": [
    "## 2.2 - Variable text"
   ]
  },
  {
   "cell_type": "markdown",
   "id": "64a94b43",
   "metadata": {},
   "source": [
    "#####  2.2.1 - Supprimer le @airline du texte du tweet  "
   ]
  },
  {
   "cell_type": "code",
   "execution_count": 96,
   "id": "230ea1e8",
   "metadata": {},
   "outputs": [],
   "source": [
    "tweets$text <- gsub(\"@[a-zA-Z_-]+\", \" \", tweets$text)"
   ]
  },
  {
   "cell_type": "markdown",
   "id": "0b64ab95",
   "metadata": {},
   "source": [
    "####       - Regroupement de quelques mots "
   ]
  },
  {
   "cell_type": "code",
   "execution_count": 97,
   "id": "021d5dad",
   "metadata": {},
   "outputs": [
    {
     "data": {
      "text/html": [
       "<table class=\"dataframe\">\n",
       "<caption>A data.frame: 6 × 4</caption>\n",
       "<thead>\n",
       "\t<tr><th></th><th scope=col>airline_sentiment</th><th scope=col>negativereason</th><th scope=col>airline</th><th scope=col>text</th></tr>\n",
       "\t<tr><th></th><th scope=col>&lt;chr&gt;</th><th scope=col>&lt;chr&gt;</th><th scope=col>&lt;chr&gt;</th><th scope=col>&lt;chr&gt;</th></tr>\n",
       "</thead>\n",
       "<tbody>\n",
       "\t<tr><th scope=row>1</th><td>neutral </td><td>          </td><td>Virgin America</td><td>  What   said.                                                                                                             </td></tr>\n",
       "\t<tr><th scope=row>2</th><td>positive</td><td>          </td><td>Virgin America</td><td>  plus you've added commercials to the experience... tacky.                                                                </td></tr>\n",
       "\t<tr><th scope=row>3</th><td>neutral </td><td>          </td><td>Virgin America</td><td>  I didn't today... Must mean I need to take another trip!                                                                 </td></tr>\n",
       "\t<tr><th scope=row>4</th><td>negative</td><td>Bad Flight</td><td>Virgin America</td><td>  it's really aggressive to blast obnoxious \"entertainment\" in your guests' faces  they have little recourse               </td></tr>\n",
       "\t<tr><th scope=row>5</th><td>negative</td><td>Can't Tell</td><td>Virgin America</td><td>  and it's a really big bad thing about it                                                                                 </td></tr>\n",
       "\t<tr><th scope=row>6</th><td>negative</td><td>Can't Tell</td><td>Virgin America</td><td>  seriously would pay $30 a flight for seats that didn't have this playing.\n",
       "it's really the only bad thing about flying VA</td></tr>\n",
       "</tbody>\n",
       "</table>\n"
      ],
      "text/latex": [
       "A data.frame: 6 × 4\n",
       "\\begin{tabular}{r|llll}\n",
       "  & airline\\_sentiment & negativereason & airline & text\\\\\n",
       "  & <chr> & <chr> & <chr> & <chr>\\\\\n",
       "\\hline\n",
       "\t1 & neutral  &            & Virgin America &   What   said.                                                                                                             \\\\\n",
       "\t2 & positive &            & Virgin America &   plus you've added commercials to the experience... tacky.                                                                \\\\\n",
       "\t3 & neutral  &            & Virgin America &   I didn't today... Must mean I need to take another trip!                                                                 \\\\\n",
       "\t4 & negative & Bad Flight & Virgin America &   it's really aggressive to blast obnoxious \"entertainment\" in your guests' faces  they have little recourse               \\\\\n",
       "\t5 & negative & Can't Tell & Virgin America &   and it's a really big bad thing about it                                                                                 \\\\\n",
       "\t6 & negative & Can't Tell & Virgin America &   seriously would pay \\$30 a flight for seats that didn't have this playing.\n",
       "it's really the only bad thing about flying VA\\\\\n",
       "\\end{tabular}\n"
      ],
      "text/markdown": [
       "\n",
       "A data.frame: 6 × 4\n",
       "\n",
       "| <!--/--> | airline_sentiment &lt;chr&gt; | negativereason &lt;chr&gt; | airline &lt;chr&gt; | text &lt;chr&gt; |\n",
       "|---|---|---|---|---|\n",
       "| 1 | neutral  | <!----> | Virgin America |   What   said.                                                                                                              |\n",
       "| 2 | positive | <!----> | Virgin America |   plus you've added commercials to the experience... tacky.                                                                 |\n",
       "| 3 | neutral  | <!----> | Virgin America |   I didn't today... Must mean I need to take another trip!                                                                  |\n",
       "| 4 | negative | Bad Flight | Virgin America |   it's really aggressive to blast obnoxious \"entertainment\" in your guests' faces  they have little recourse                |\n",
       "| 5 | negative | Can't Tell | Virgin America |   and it's a really big bad thing about it                                                                                  |\n",
       "| 6 | negative | Can't Tell | Virgin America |   seriously would pay $30 a flight for seats that didn't have this playing.\n",
       "it's really the only bad thing about flying VA |\n",
       "\n"
      ],
      "text/plain": [
       "  airline_sentiment negativereason airline       \n",
       "1 neutral                          Virgin America\n",
       "2 positive                         Virgin America\n",
       "3 neutral                          Virgin America\n",
       "4 negative          Bad Flight     Virgin America\n",
       "5 negative          Can't Tell     Virgin America\n",
       "6 negative          Can't Tell     Virgin America\n",
       "  text                                                                                                                       \n",
       "1   What   said.                                                                                                             \n",
       "2   plus you've added commercials to the experience... tacky.                                                                \n",
       "3   I didn't today... Must mean I need to take another trip!                                                                 \n",
       "4   it's really aggressive to blast obnoxious \"entertainment\" in your guests' faces  they have little recourse               \n",
       "5   and it's a really big bad thing about it                                                                                 \n",
       "6   seriously would pay $30 a flight for seats that didn't have this playing.\\nit's really the only bad thing about flying VA"
      ]
     },
     "metadata": {},
     "output_type": "display_data"
    }
   ],
   "source": [
    "tweets$text <-gsub(\"thanks\", \"thank\", tweets$text, ignore.case = TRUE)\n",
    "tweets$text <- gsub(\"&amp;\", \"\", tweets$text)\n",
    "tweets$text <- gsub(\"flightled\", \"flight\", tweets$text)\n",
    "tweets$text <- gsub(\"flights\", \"flight\", tweets$text)\n",
    "tweets$text <- gsub(c(\"hrs\", \"hours\"), \"hour\", tweets$text)\n",
    "head(tweets)\n"
   ]
  },
  {
   "cell_type": "markdown",
   "id": "23b8d62e",
   "metadata": {},
   "source": [
    "#####  2.2.2 - diviser les tweets en 3 dataframes selon le sentiment positif , négatif ou neutre"
   ]
  },
  {
   "cell_type": "code",
   "execution_count": 98,
   "id": "306290f7",
   "metadata": {},
   "outputs": [],
   "source": [
    "positiveSubset = subset(tweets, airline_sentiment == \"positive\")\n",
    "negativeSubset = subset(tweets, airline_sentiment == \"negative\")\n",
    "neutralSubset = subset(tweets, airline_sentiment == \"neutral\")"
   ]
  },
  {
   "cell_type": "markdown",
   "id": "eab66737",
   "metadata": {},
   "source": [
    "##### 2.2.3 - Nettoyage de la variable text"
   ]
  },
  {
   "cell_type": "code",
   "execution_count": 129,
   "id": "93b60e65",
   "metadata": {},
   "outputs": [],
   "source": [
    "# Ses mots sont fréquentes et inutiles donc on les supprime\n",
    "wordsToRemove <- c('get', 'cant', 'can', 'now', 'just', 'will', 'dont', 'got', 'much','airline', 'ive','time',\n",
    "                   'guys','today','jetblue','amp')\n",
    "\n",
    "\n",
    "\n",
    "analyseText <- function(text_to_analyse){\n",
    "    \n",
    "    # Charger les données comme un corpus\n",
    "    text <- Corpus(VectorSource(text_to_analyse))\n",
    "    # Convertir le texte en minuscule\n",
    "    text <- tm_map(text, content_transformer(tolower))\n",
    "    # Supprimer les ponctuations\n",
    "    text <- tm_map(text, removePunctuation)\n",
    "    # Supprimer les mots wordsToRemove\n",
    "    text <- tm_map(text, removeWords, wordsToRemove)\n",
    "    # Supprimer les nombres\n",
    "    text <- tm_map(text, removeNumbers)\n",
    "    # Supprimer les mots vides anglais\n",
    "    text <- tm_map(text, removeWords, stopwords(\"english\"))\n",
    "    text <- DocumentTermMatrix(text)\n",
    "    # Conserve la matrice 97% sparse\n",
    "    text <- removeSparseTerms(text, 0.97) \n",
    "    text <- as.data.frame(as.matrix(text))\n",
    "    colnames(text) <- make.names(colnames(text)) \n",
    "    \n",
    "    \n",
    "    return(text)\n",
    "}"
   ]
  },
  {
   "cell_type": "markdown",
   "id": "b17cd17a",
   "metadata": {},
   "source": [
    "##### 2.2.4 - Analyse des tweets positives"
   ]
  },
  {
   "cell_type": "code",
   "execution_count": 100,
   "id": "0477fa61",
   "metadata": {},
   "outputs": [
    {
     "data": {
      "text/html": [
       "<table class=\"dataframe\">\n",
       "<caption>A data.frame: 6 × 12</caption>\n",
       "<thead>\n",
       "\t<tr><th></th><th scope=col>amazing</th><th scope=col>good</th><th scope=col>great</th><th scope=col>thank</th><th scope=col>flight</th><th scope=col>awesome</th><th scope=col>love</th><th scope=col>best</th><th scope=col>customer</th><th scope=col>service</th><th scope=col>back</th><th scope=col>help</th></tr>\n",
       "\t<tr><th></th><th scope=col>&lt;dbl&gt;</th><th scope=col>&lt;dbl&gt;</th><th scope=col>&lt;dbl&gt;</th><th scope=col>&lt;dbl&gt;</th><th scope=col>&lt;dbl&gt;</th><th scope=col>&lt;dbl&gt;</th><th scope=col>&lt;dbl&gt;</th><th scope=col>&lt;dbl&gt;</th><th scope=col>&lt;dbl&gt;</th><th scope=col>&lt;dbl&gt;</th><th scope=col>&lt;dbl&gt;</th><th scope=col>&lt;dbl&gt;</th></tr>\n",
       "</thead>\n",
       "<tbody>\n",
       "\t<tr><th scope=row>1</th><td>0</td><td>0</td><td>0</td><td>0</td><td>0</td><td>0</td><td>0</td><td>0</td><td>0</td><td>0</td><td>0</td><td>0</td></tr>\n",
       "\t<tr><th scope=row>2</th><td>0</td><td>0</td><td>0</td><td>0</td><td>0</td><td>0</td><td>0</td><td>0</td><td>0</td><td>0</td><td>0</td><td>0</td></tr>\n",
       "\t<tr><th scope=row>3</th><td>0</td><td>0</td><td>0</td><td>0</td><td>0</td><td>0</td><td>0</td><td>0</td><td>0</td><td>0</td><td>0</td><td>0</td></tr>\n",
       "\t<tr><th scope=row>4</th><td>1</td><td>1</td><td>0</td><td>0</td><td>0</td><td>0</td><td>0</td><td>0</td><td>0</td><td>0</td><td>0</td><td>0</td></tr>\n",
       "\t<tr><th scope=row>5</th><td>0</td><td>0</td><td>0</td><td>0</td><td>0</td><td>0</td><td>0</td><td>0</td><td>0</td><td>0</td><td>0</td><td>0</td></tr>\n",
       "\t<tr><th scope=row>6</th><td>0</td><td>0</td><td>1</td><td>0</td><td>0</td><td>0</td><td>0</td><td>0</td><td>0</td><td>0</td><td>0</td><td>0</td></tr>\n",
       "</tbody>\n",
       "</table>\n"
      ],
      "text/latex": [
       "A data.frame: 6 × 12\n",
       "\\begin{tabular}{r|llllllllllll}\n",
       "  & amazing & good & great & thank & flight & awesome & love & best & customer & service & back & help\\\\\n",
       "  & <dbl> & <dbl> & <dbl> & <dbl> & <dbl> & <dbl> & <dbl> & <dbl> & <dbl> & <dbl> & <dbl> & <dbl>\\\\\n",
       "\\hline\n",
       "\t1 & 0 & 0 & 0 & 0 & 0 & 0 & 0 & 0 & 0 & 0 & 0 & 0\\\\\n",
       "\t2 & 0 & 0 & 0 & 0 & 0 & 0 & 0 & 0 & 0 & 0 & 0 & 0\\\\\n",
       "\t3 & 0 & 0 & 0 & 0 & 0 & 0 & 0 & 0 & 0 & 0 & 0 & 0\\\\\n",
       "\t4 & 1 & 1 & 0 & 0 & 0 & 0 & 0 & 0 & 0 & 0 & 0 & 0\\\\\n",
       "\t5 & 0 & 0 & 0 & 0 & 0 & 0 & 0 & 0 & 0 & 0 & 0 & 0\\\\\n",
       "\t6 & 0 & 0 & 1 & 0 & 0 & 0 & 0 & 0 & 0 & 0 & 0 & 0\\\\\n",
       "\\end{tabular}\n"
      ],
      "text/markdown": [
       "\n",
       "A data.frame: 6 × 12\n",
       "\n",
       "| <!--/--> | amazing &lt;dbl&gt; | good &lt;dbl&gt; | great &lt;dbl&gt; | thank &lt;dbl&gt; | flight &lt;dbl&gt; | awesome &lt;dbl&gt; | love &lt;dbl&gt; | best &lt;dbl&gt; | customer &lt;dbl&gt; | service &lt;dbl&gt; | back &lt;dbl&gt; | help &lt;dbl&gt; |\n",
       "|---|---|---|---|---|---|---|---|---|---|---|---|---|\n",
       "| 1 | 0 | 0 | 0 | 0 | 0 | 0 | 0 | 0 | 0 | 0 | 0 | 0 |\n",
       "| 2 | 0 | 0 | 0 | 0 | 0 | 0 | 0 | 0 | 0 | 0 | 0 | 0 |\n",
       "| 3 | 0 | 0 | 0 | 0 | 0 | 0 | 0 | 0 | 0 | 0 | 0 | 0 |\n",
       "| 4 | 1 | 1 | 0 | 0 | 0 | 0 | 0 | 0 | 0 | 0 | 0 | 0 |\n",
       "| 5 | 0 | 0 | 0 | 0 | 0 | 0 | 0 | 0 | 0 | 0 | 0 | 0 |\n",
       "| 6 | 0 | 0 | 1 | 0 | 0 | 0 | 0 | 0 | 0 | 0 | 0 | 0 |\n",
       "\n"
      ],
      "text/plain": [
       "  amazing good great thank flight awesome love best customer service back help\n",
       "1 0       0    0     0     0      0       0    0    0        0       0    0   \n",
       "2 0       0    0     0     0      0       0    0    0        0       0    0   \n",
       "3 0       0    0     0     0      0       0    0    0        0       0    0   \n",
       "4 1       1    0     0     0      0       0    0    0        0       0    0   \n",
       "5 0       0    0     0     0      0       0    0    0        0       0    0   \n",
       "6 0       0    1     0     0      0       0    0    0        0       0    0   "
      ]
     },
     "metadata": {},
     "output_type": "display_data"
    }
   ],
   "source": [
    "# Tableau disjonctif\n",
    "positiveWords <- analyseText(positiveSubset$text)\n",
    "head(positiveWords)"
   ]
  },
  {
   "cell_type": "code",
   "execution_count": 101,
   "id": "eac5edd7",
   "metadata": {},
   "outputs": [
    {
     "data": {
      "text/html": [
       "<table class=\"dataframe\">\n",
       "<caption>A data.frame: 6 × 4</caption>\n",
       "<thead>\n",
       "\t<tr><th></th><th scope=col>airline_sentiment</th><th scope=col>negativereason</th><th scope=col>airline</th><th scope=col>text</th></tr>\n",
       "\t<tr><th></th><th scope=col>&lt;chr&gt;</th><th scope=col>&lt;chr&gt;</th><th scope=col>&lt;chr&gt;</th><th scope=col>&lt;chr&gt;</th></tr>\n",
       "</thead>\n",
       "<tbody>\n",
       "\t<tr><th scope=row>2</th><td>positive</td><td></td><td>Virgin America</td><td>  plus you've added commercials to the experience... tacky.                                                     </td></tr>\n",
       "\t<tr><th scope=row>7</th><td>positive</td><td></td><td>Virgin America</td><td>  yes, nearly every time I fly VX this â€œear wormâ€ wonâ€™t go away :)                                        </td></tr>\n",
       "\t<tr><th scope=row>9</th><td>positive</td><td></td><td>Virgin America</td><td>  Well, I didn'tâ€¦but NOW I DO! :-D                                                                            </td></tr>\n",
       "\t<tr><th scope=row>10</th><td>positive</td><td></td><td>Virgin America</td><td>  it was amazing, and arrived an hour early. You're too good to me.                                             </td></tr>\n",
       "\t<tr><th scope=row>12</th><td>positive</td><td></td><td>Virgin America</td><td><span style=white-space:pre-wrap>  I &amp;lt;3 pretty graphics. so much better than minimal iconography. :D                                          </span></td></tr>\n",
       "\t<tr><th scope=row>13</th><td>positive</td><td></td><td>Virgin America</td><td>  This is such a great deal! Already thinking about my 2nd trip to    I haven't even gone on my 1st trip yet! ;p</td></tr>\n",
       "</tbody>\n",
       "</table>\n"
      ],
      "text/latex": [
       "A data.frame: 6 × 4\n",
       "\\begin{tabular}{r|llll}\n",
       "  & airline\\_sentiment & negativereason & airline & text\\\\\n",
       "  & <chr> & <chr> & <chr> & <chr>\\\\\n",
       "\\hline\n",
       "\t2 & positive &  & Virgin America &   plus you've added commercials to the experience... tacky.                                                     \\\\\n",
       "\t7 & positive &  & Virgin America &   yes, nearly every time I fly VX this â€œear wormâ€ wonâ€™t go away :)                                        \\\\\n",
       "\t9 & positive &  & Virgin America &   Well, I didn'tâ€¦but NOW I DO! :-D                                                                            \\\\\n",
       "\t10 & positive &  & Virgin America &   it was amazing, and arrived an hour early. You're too good to me.                                             \\\\\n",
       "\t12 & positive &  & Virgin America &   I \\&lt;3 pretty graphics. so much better than minimal iconography. :D                                          \\\\\n",
       "\t13 & positive &  & Virgin America &   This is such a great deal! Already thinking about my 2nd trip to    I haven't even gone on my 1st trip yet! ;p\\\\\n",
       "\\end{tabular}\n"
      ],
      "text/markdown": [
       "\n",
       "A data.frame: 6 × 4\n",
       "\n",
       "| <!--/--> | airline_sentiment &lt;chr&gt; | negativereason &lt;chr&gt; | airline &lt;chr&gt; | text &lt;chr&gt; |\n",
       "|---|---|---|---|---|\n",
       "| 2 | positive | <!----> | Virgin America |   plus you've added commercials to the experience... tacky.                                                      |\n",
       "| 7 | positive | <!----> | Virgin America |   yes, nearly every time I fly VX this â€œear wormâ€ wonâ€™t go away :)                                         |\n",
       "| 9 | positive | <!----> | Virgin America |   Well, I didn'tâ€¦but NOW I DO! :-D                                                                             |\n",
       "| 10 | positive | <!----> | Virgin America |   it was amazing, and arrived an hour early. You're too good to me.                                              |\n",
       "| 12 | positive | <!----> | Virgin America |   I &amp;lt;3 pretty graphics. so much better than minimal iconography. :D                                           |\n",
       "| 13 | positive | <!----> | Virgin America |   This is such a great deal! Already thinking about my 2nd trip to    I haven't even gone on my 1st trip yet! ;p |\n",
       "\n"
      ],
      "text/plain": [
       "   airline_sentiment negativereason airline       \n",
       "2  positive                         Virgin America\n",
       "7  positive                         Virgin America\n",
       "9  positive                         Virgin America\n",
       "10 positive                         Virgin America\n",
       "12 positive                         Virgin America\n",
       "13 positive                         Virgin America\n",
       "   text                                                                                                            \n",
       "2    plus you've added commercials to the experience... tacky.                                                     \n",
       "7    yes, nearly every time I fly VX this â\\200œear wormâ\\200\\235 wonâ\\200\\231t go away :)                                        \n",
       "9    Well, I didn'tâ\\200¦but NOW I DO! :-D                                                                            \n",
       "10   it was amazing, and arrived an hour early. You're too good to me.                                             \n",
       "12   I &lt;3 pretty graphics. so much better than minimal iconography. :D                                          \n",
       "13   This is such a great deal! Already thinking about my 2nd trip to    I haven't even gone on my 1st trip yet! ;p"
      ]
     },
     "metadata": {},
     "output_type": "display_data"
    }
   ],
   "source": [
    "head(positiveSubset)"
   ]
  },
  {
   "cell_type": "code",
   "execution_count": 102,
   "id": "150f3f98",
   "metadata": {},
   "outputs": [
    {
     "data": {
      "text/html": [
       "<style>\n",
       ".list-inline {list-style: none; margin:0; padding: 0}\n",
       ".list-inline>li {display: inline-block}\n",
       ".list-inline>li:not(:last-child)::after {content: \"\\00b7\"; padding: 0 .5ex}\n",
       "</style>\n",
       "<ol class=list-inline><li>2363</li><li>12</li></ol>\n"
      ],
      "text/latex": [
       "\\begin{enumerate*}\n",
       "\\item 2363\n",
       "\\item 12\n",
       "\\end{enumerate*}\n"
      ],
      "text/markdown": [
       "1. 2363\n",
       "2. 12\n",
       "\n",
       "\n"
      ],
      "text/plain": [
       "[1] 2363   12"
      ]
     },
     "metadata": {},
     "output_type": "display_data"
    }
   ],
   "source": [
    "dim(positiveWords) #=> (2363,12)"
   ]
  },
  {
   "cell_type": "code",
   "execution_count": 103,
   "id": "2e721dd1",
   "metadata": {},
   "outputs": [],
   "source": [
    "pos_data <- positiveWords\n",
    "pos_data <- cbind(pos_data, airline = positiveSubset[,\"airline\"])  \n",
    "pos_data <- pos_data[,order(colnames(pos_data),decreasing=F)]"
   ]
  },
  {
   "cell_type": "code",
   "execution_count": 104,
   "id": "8f5006d0",
   "metadata": {
    "scrolled": false
   },
   "outputs": [
    {
     "data": {
      "text/html": [
       "<table class=\"dataframe\">\n",
       "<caption>A data.frame: 6 × 13</caption>\n",
       "<thead>\n",
       "\t<tr><th></th><th scope=col>airline</th><th scope=col>amazing</th><th scope=col>awesome</th><th scope=col>back</th><th scope=col>best</th><th scope=col>customer</th><th scope=col>flight</th><th scope=col>good</th><th scope=col>great</th><th scope=col>help</th><th scope=col>love</th><th scope=col>service</th><th scope=col>thank</th></tr>\n",
       "\t<tr><th></th><th scope=col>&lt;chr&gt;</th><th scope=col>&lt;dbl&gt;</th><th scope=col>&lt;dbl&gt;</th><th scope=col>&lt;dbl&gt;</th><th scope=col>&lt;dbl&gt;</th><th scope=col>&lt;dbl&gt;</th><th scope=col>&lt;dbl&gt;</th><th scope=col>&lt;dbl&gt;</th><th scope=col>&lt;dbl&gt;</th><th scope=col>&lt;dbl&gt;</th><th scope=col>&lt;dbl&gt;</th><th scope=col>&lt;dbl&gt;</th><th scope=col>&lt;dbl&gt;</th></tr>\n",
       "</thead>\n",
       "<tbody>\n",
       "\t<tr><th scope=row>1</th><td>American      </td><td> 6</td><td>14</td><td>12</td><td> 8</td><td>20</td><td> 49</td><td>24</td><td>29</td><td>13</td><td>17</td><td>27</td><td>186</td></tr>\n",
       "\t<tr><th scope=row>2</th><td>Delta         </td><td>13</td><td>25</td><td>11</td><td>24</td><td>15</td><td> 89</td><td>21</td><td>64</td><td>11</td><td>38</td><td>29</td><td>218</td></tr>\n",
       "\t<tr><th scope=row>3</th><td>Southwest     </td><td>22</td><td>30</td><td>16</td><td>32</td><td>26</td><td>107</td><td>20</td><td>55</td><td>19</td><td>47</td><td>35</td><td>241</td></tr>\n",
       "\t<tr><th scope=row>4</th><td>United        </td><td>19</td><td>13</td><td>16</td><td>12</td><td>28</td><td>101</td><td>28</td><td>39</td><td>26</td><td> 9</td><td>36</td><td>241</td></tr>\n",
       "\t<tr><th scope=row>5</th><td>US Airways    </td><td>10</td><td> 9</td><td> 9</td><td>17</td><td>17</td><td> 58</td><td> 9</td><td>31</td><td>13</td><td> 3</td><td>25</td><td>139</td></tr>\n",
       "\t<tr><th scope=row>6</th><td>Virgin America</td><td> 7</td><td> 8</td><td> 7</td><td>12</td><td> 7</td><td> 27</td><td> 5</td><td>15</td><td> 0</td><td>18</td><td> 7</td><td> 36</td></tr>\n",
       "</tbody>\n",
       "</table>\n"
      ],
      "text/latex": [
       "A data.frame: 6 × 13\n",
       "\\begin{tabular}{r|lllllllllllll}\n",
       "  & airline & amazing & awesome & back & best & customer & flight & good & great & help & love & service & thank\\\\\n",
       "  & <chr> & <dbl> & <dbl> & <dbl> & <dbl> & <dbl> & <dbl> & <dbl> & <dbl> & <dbl> & <dbl> & <dbl> & <dbl>\\\\\n",
       "\\hline\n",
       "\t1 & American       &  6 & 14 & 12 &  8 & 20 &  49 & 24 & 29 & 13 & 17 & 27 & 186\\\\\n",
       "\t2 & Delta          & 13 & 25 & 11 & 24 & 15 &  89 & 21 & 64 & 11 & 38 & 29 & 218\\\\\n",
       "\t3 & Southwest      & 22 & 30 & 16 & 32 & 26 & 107 & 20 & 55 & 19 & 47 & 35 & 241\\\\\n",
       "\t4 & United         & 19 & 13 & 16 & 12 & 28 & 101 & 28 & 39 & 26 &  9 & 36 & 241\\\\\n",
       "\t5 & US Airways     & 10 &  9 &  9 & 17 & 17 &  58 &  9 & 31 & 13 &  3 & 25 & 139\\\\\n",
       "\t6 & Virgin America &  7 &  8 &  7 & 12 &  7 &  27 &  5 & 15 &  0 & 18 &  7 &  36\\\\\n",
       "\\end{tabular}\n"
      ],
      "text/markdown": [
       "\n",
       "A data.frame: 6 × 13\n",
       "\n",
       "| <!--/--> | airline &lt;chr&gt; | amazing &lt;dbl&gt; | awesome &lt;dbl&gt; | back &lt;dbl&gt; | best &lt;dbl&gt; | customer &lt;dbl&gt; | flight &lt;dbl&gt; | good &lt;dbl&gt; | great &lt;dbl&gt; | help &lt;dbl&gt; | love &lt;dbl&gt; | service &lt;dbl&gt; | thank &lt;dbl&gt; |\n",
       "|---|---|---|---|---|---|---|---|---|---|---|---|---|---|\n",
       "| 1 | American       |  6 | 14 | 12 |  8 | 20 |  49 | 24 | 29 | 13 | 17 | 27 | 186 |\n",
       "| 2 | Delta          | 13 | 25 | 11 | 24 | 15 |  89 | 21 | 64 | 11 | 38 | 29 | 218 |\n",
       "| 3 | Southwest      | 22 | 30 | 16 | 32 | 26 | 107 | 20 | 55 | 19 | 47 | 35 | 241 |\n",
       "| 4 | United         | 19 | 13 | 16 | 12 | 28 | 101 | 28 | 39 | 26 |  9 | 36 | 241 |\n",
       "| 5 | US Airways     | 10 |  9 |  9 | 17 | 17 |  58 |  9 | 31 | 13 |  3 | 25 | 139 |\n",
       "| 6 | Virgin America |  7 |  8 |  7 | 12 |  7 |  27 |  5 | 15 |  0 | 18 |  7 |  36 |\n",
       "\n"
      ],
      "text/plain": [
       "  airline        amazing awesome back best customer flight good great help love\n",
       "1 American        6      14      12    8   20        49    24   29    13   17  \n",
       "2 Delta          13      25      11   24   15        89    21   64    11   38  \n",
       "3 Southwest      22      30      16   32   26       107    20   55    19   47  \n",
       "4 United         19      13      16   12   28       101    28   39    26    9  \n",
       "5 US Airways     10       9       9   17   17        58     9   31    13    3  \n",
       "6 Virgin America  7       8       7   12    7        27     5   15     0   18  \n",
       "  service thank\n",
       "1 27      186  \n",
       "2 29      218  \n",
       "3 35      241  \n",
       "4 36      241  \n",
       "5 25      139  \n",
       "6  7       36  "
      ]
     },
     "metadata": {},
     "output_type": "display_data"
    }
   ],
   "source": [
    "pos_data <- aggregate(.~airline , pos_data , sum)\n",
    "head(pos_data)\n",
    "#write.csv(pos_data,\"pos_data.csv\", row.names = FALSE)"
   ]
  },
  {
   "cell_type": "markdown",
   "id": "88433ca8",
   "metadata": {},
   "source": [
    "      => Idées prise à partir du tableau:\n",
    "      Le mot \"thanks\" utilisé 241 fois (le plus grand effectif) pour \"Southwest\" et \"United\" donc le mot \"thanks\" est-il si \n",
    "      caractéristique de ces compagnies ?"
   ]
  },
  {
   "cell_type": "markdown",
   "id": "5ce4a3b3",
   "metadata": {},
   "source": [
    "#### Nuages de mots"
   ]
  },
  {
   "cell_type": "code",
   "execution_count": 105,
   "id": "26999a77",
   "metadata": {},
   "outputs": [
    {
     "data": {
      "text/html": [
       "<style>\n",
       ".dl-inline {width: auto; margin:0; padding: 0}\n",
       ".dl-inline>dt, .dl-inline>dd {float: none; width: auto; display: inline-block}\n",
       ".dl-inline>dt::after {content: \":\\0020\"; padding-right: .5ex}\n",
       ".dl-inline>dt:not(:first-of-type) {padding-left: .5ex}\n",
       "</style><dl class=dl-inline><dt>thank</dt><dd>1061</dd><dt>flight</dt><dd>431</dd><dt>great</dt><dd>233</dd><dt>service</dt><dd>159</dd><dt>love</dt><dd>132</dd><dt>customer</dt><dd>113</dd></dl>\n"
      ],
      "text/latex": [
       "\\begin{description*}\n",
       "\\item[thank] 1061\n",
       "\\item[flight] 431\n",
       "\\item[great] 233\n",
       "\\item[service] 159\n",
       "\\item[love] 132\n",
       "\\item[customer] 113\n",
       "\\end{description*}\n"
      ],
      "text/markdown": [
       "thank\n",
       ":   1061flight\n",
       ":   431great\n",
       ":   233service\n",
       ":   159love\n",
       ":   132customer\n",
       ":   113\n",
       "\n"
      ],
      "text/plain": [
       "   thank   flight    great  service     love customer \n",
       "    1061      431      233      159      132      113 "
      ]
     },
     "metadata": {},
     "output_type": "display_data"
    }
   ],
   "source": [
    "freqWords_pos <- colSums(positiveWords)\n",
    "freqWords_pos <- freqWords_pos[order(freqWords_pos, decreasing = T)]\n",
    "head(freqWords_pos)"
   ]
  },
  {
   "cell_type": "code",
   "execution_count": 106,
   "id": "72e51317",
   "metadata": {},
   "outputs": [
    {
     "data": {
      "image/png": "[encoded data removed]",
      "text/plain": [
       "plot without title"
      ]
     },
     "metadata": {
      "image/png": {
       "height": 600,
       "width": 900
      }
     },
     "output_type": "display_data"
    }
   ],
   "source": [
    "wordcloud(freq = as.vector(freqWords_pos), \n",
    "          words = names(freqWords_pos),\n",
    "          random.order = FALSE,\n",
    "          random.color = FALSE, \n",
    "          colors = brewer.pal(9, 'Reds')[4:9])"
   ]
  },
  {
   "cell_type": "markdown",
   "id": "893b110b",
   "metadata": {},
   "source": [
    "    Le nuages des mots montre que les mots les plus fréquemment utilisés sont \"thanks\" , \"great\" , \"service\",\"love\", \n",
    "    \"customer\" autrement dit les clients ont une tendance à apprécier la compagnie aérienne sur les réseaux sociaux \n",
    "    lorsqu'ils ont une expérience de vol positive surtout par rapport à leur service client."
   ]
  },
  {
   "cell_type": "markdown",
   "id": "c5606e9c",
   "metadata": {},
   "source": [
    "##### 2.2.5 - Analyse des tweets negatives"
   ]
  },
  {
   "cell_type": "code",
   "execution_count": 107,
   "id": "e53abd03",
   "metadata": {},
   "outputs": [
    {
     "data": {
      "text/html": [
       "<table class=\"dataframe\">\n",
       "<caption>A data.frame: 6 × 25</caption>\n",
       "<thead>\n",
       "\t<tr><th></th><th scope=col>flight</th><th scope=col>still</th><th scope=col>help</th><th scope=col>hour</th><th scope=col>one</th><th scope=col>call</th><th scope=col>phone</th><th scope=col>trying</th><th scope=col>please</th><th scope=col>hold</th><th scope=col>...</th><th scope=col>delayed</th><th scope=col>late</th><th scope=col>cancelled</th><th scope=col>back</th><th scope=col>flightled</th><th scope=col>plane</th><th scope=col>hours</th><th scope=col>need</th><th scope=col>waiting</th><th scope=col>gate</th></tr>\n",
       "\t<tr><th></th><th scope=col>&lt;dbl&gt;</th><th scope=col>&lt;dbl&gt;</th><th scope=col>&lt;dbl&gt;</th><th scope=col>&lt;dbl&gt;</th><th scope=col>&lt;dbl&gt;</th><th scope=col>&lt;dbl&gt;</th><th scope=col>&lt;dbl&gt;</th><th scope=col>&lt;dbl&gt;</th><th scope=col>&lt;dbl&gt;</th><th scope=col>&lt;dbl&gt;</th><th scope=col>...</th><th scope=col>&lt;dbl&gt;</th><th scope=col>&lt;dbl&gt;</th><th scope=col>&lt;dbl&gt;</th><th scope=col>&lt;dbl&gt;</th><th scope=col>&lt;dbl&gt;</th><th scope=col>&lt;dbl&gt;</th><th scope=col>&lt;dbl&gt;</th><th scope=col>&lt;dbl&gt;</th><th scope=col>&lt;dbl&gt;</th><th scope=col>&lt;dbl&gt;</th></tr>\n",
       "</thead>\n",
       "<tbody>\n",
       "\t<tr><th scope=row>1</th><td>0</td><td>0</td><td>0</td><td>0</td><td>0</td><td>0</td><td>0</td><td>0</td><td>0</td><td>0</td><td>...</td><td>0</td><td>0</td><td>0</td><td>0</td><td>0</td><td>0</td><td>0</td><td>0</td><td>0</td><td>0</td></tr>\n",
       "\t<tr><th scope=row>2</th><td>0</td><td>0</td><td>0</td><td>0</td><td>0</td><td>0</td><td>0</td><td>0</td><td>0</td><td>0</td><td>...</td><td>0</td><td>0</td><td>0</td><td>0</td><td>0</td><td>0</td><td>0</td><td>0</td><td>0</td><td>0</td></tr>\n",
       "\t<tr><th scope=row>3</th><td>1</td><td>0</td><td>0</td><td>0</td><td>0</td><td>0</td><td>0</td><td>0</td><td>0</td><td>0</td><td>...</td><td>0</td><td>0</td><td>0</td><td>0</td><td>0</td><td>0</td><td>0</td><td>0</td><td>0</td><td>0</td></tr>\n",
       "\t<tr><th scope=row>4</th><td>0</td><td>1</td><td>0</td><td>0</td><td>0</td><td>0</td><td>0</td><td>0</td><td>0</td><td>0</td><td>...</td><td>0</td><td>0</td><td>0</td><td>0</td><td>0</td><td>0</td><td>0</td><td>0</td><td>0</td><td>0</td></tr>\n",
       "\t<tr><th scope=row>5</th><td>0</td><td>0</td><td>1</td><td>0</td><td>0</td><td>0</td><td>0</td><td>0</td><td>0</td><td>0</td><td>...</td><td>0</td><td>0</td><td>0</td><td>0</td><td>0</td><td>0</td><td>0</td><td>0</td><td>0</td><td>0</td></tr>\n",
       "\t<tr><th scope=row>6</th><td>0</td><td>0</td><td>0</td><td>0</td><td>0</td><td>0</td><td>0</td><td>0</td><td>0</td><td>0</td><td>...</td><td>0</td><td>0</td><td>0</td><td>0</td><td>0</td><td>0</td><td>0</td><td>0</td><td>0</td><td>0</td></tr>\n",
       "</tbody>\n",
       "</table>\n"
      ],
      "text/latex": [
       "A data.frame: 6 × 25\n",
       "\\begin{tabular}{r|lllllllllllllllllllll}\n",
       "  & flight & still & help & hour & one & call & phone & trying & please & hold & ... & delayed & late & cancelled & back & flightled & plane & hours & need & waiting & gate\\\\\n",
       "  & <dbl> & <dbl> & <dbl> & <dbl> & <dbl> & <dbl> & <dbl> & <dbl> & <dbl> & <dbl> & ... & <dbl> & <dbl> & <dbl> & <dbl> & <dbl> & <dbl> & <dbl> & <dbl> & <dbl> & <dbl>\\\\\n",
       "\\hline\n",
       "\t1 & 0 & 0 & 0 & 0 & 0 & 0 & 0 & 0 & 0 & 0 & ... & 0 & 0 & 0 & 0 & 0 & 0 & 0 & 0 & 0 & 0\\\\\n",
       "\t2 & 0 & 0 & 0 & 0 & 0 & 0 & 0 & 0 & 0 & 0 & ... & 0 & 0 & 0 & 0 & 0 & 0 & 0 & 0 & 0 & 0\\\\\n",
       "\t3 & 1 & 0 & 0 & 0 & 0 & 0 & 0 & 0 & 0 & 0 & ... & 0 & 0 & 0 & 0 & 0 & 0 & 0 & 0 & 0 & 0\\\\\n",
       "\t4 & 0 & 1 & 0 & 0 & 0 & 0 & 0 & 0 & 0 & 0 & ... & 0 & 0 & 0 & 0 & 0 & 0 & 0 & 0 & 0 & 0\\\\\n",
       "\t5 & 0 & 0 & 1 & 0 & 0 & 0 & 0 & 0 & 0 & 0 & ... & 0 & 0 & 0 & 0 & 0 & 0 & 0 & 0 & 0 & 0\\\\\n",
       "\t6 & 0 & 0 & 0 & 0 & 0 & 0 & 0 & 0 & 0 & 0 & ... & 0 & 0 & 0 & 0 & 0 & 0 & 0 & 0 & 0 & 0\\\\\n",
       "\\end{tabular}\n"
      ],
      "text/markdown": [
       "\n",
       "A data.frame: 6 × 25\n",
       "\n",
       "| <!--/--> | flight &lt;dbl&gt; | still &lt;dbl&gt; | help &lt;dbl&gt; | hour &lt;dbl&gt; | one &lt;dbl&gt; | call &lt;dbl&gt; | phone &lt;dbl&gt; | trying &lt;dbl&gt; | please &lt;dbl&gt; | hold &lt;dbl&gt; | ... ... | delayed &lt;dbl&gt; | late &lt;dbl&gt; | cancelled &lt;dbl&gt; | back &lt;dbl&gt; | flightled &lt;dbl&gt; | plane &lt;dbl&gt; | hours &lt;dbl&gt; | need &lt;dbl&gt; | waiting &lt;dbl&gt; | gate &lt;dbl&gt; |\n",
       "|---|---|---|---|---|---|---|---|---|---|---|---|---|---|---|---|---|---|---|---|---|---|\n",
       "| 1 | 0 | 0 | 0 | 0 | 0 | 0 | 0 | 0 | 0 | 0 | ... | 0 | 0 | 0 | 0 | 0 | 0 | 0 | 0 | 0 | 0 |\n",
       "| 2 | 0 | 0 | 0 | 0 | 0 | 0 | 0 | 0 | 0 | 0 | ... | 0 | 0 | 0 | 0 | 0 | 0 | 0 | 0 | 0 | 0 |\n",
       "| 3 | 1 | 0 | 0 | 0 | 0 | 0 | 0 | 0 | 0 | 0 | ... | 0 | 0 | 0 | 0 | 0 | 0 | 0 | 0 | 0 | 0 |\n",
       "| 4 | 0 | 1 | 0 | 0 | 0 | 0 | 0 | 0 | 0 | 0 | ... | 0 | 0 | 0 | 0 | 0 | 0 | 0 | 0 | 0 | 0 |\n",
       "| 5 | 0 | 0 | 1 | 0 | 0 | 0 | 0 | 0 | 0 | 0 | ... | 0 | 0 | 0 | 0 | 0 | 0 | 0 | 0 | 0 | 0 |\n",
       "| 6 | 0 | 0 | 0 | 0 | 0 | 0 | 0 | 0 | 0 | 0 | ... | 0 | 0 | 0 | 0 | 0 | 0 | 0 | 0 | 0 | 0 |\n",
       "\n"
      ],
      "text/plain": [
       "  flight still help hour one call phone trying please hold ... delayed late\n",
       "1 0      0     0    0    0   0    0     0      0      0    ... 0       0   \n",
       "2 0      0     0    0    0   0    0     0      0      0    ... 0       0   \n",
       "3 1      0     0    0    0   0    0     0      0      0    ... 0       0   \n",
       "4 0      1     0    0    0   0    0     0      0      0    ... 0       0   \n",
       "5 0      0     1    0    0   0    0     0      0      0    ... 0       0   \n",
       "6 0      0     0    0    0   0    0     0      0      0    ... 0       0   \n",
       "  cancelled back flightled plane hours need waiting gate\n",
       "1 0         0    0         0     0     0    0       0   \n",
       "2 0         0    0         0     0     0    0       0   \n",
       "3 0         0    0         0     0     0    0       0   \n",
       "4 0         0    0         0     0     0    0       0   \n",
       "5 0         0    0         0     0     0    0       0   \n",
       "6 0         0    0         0     0     0    0       0   "
      ]
     },
     "metadata": {},
     "output_type": "display_data"
    },
    {
     "data": {
      "text/html": [
       "<style>\n",
       ".list-inline {list-style: none; margin:0; padding: 0}\n",
       ".list-inline>li {display: inline-block}\n",
       ".list-inline>li:not(:last-child)::after {content: \"\\00b7\"; padding: 0 .5ex}\n",
       "</style>\n",
       "<ol class=list-inline><li>9178</li><li>25</li></ol>\n"
      ],
      "text/latex": [
       "\\begin{enumerate*}\n",
       "\\item 9178\n",
       "\\item 25\n",
       "\\end{enumerate*}\n"
      ],
      "text/markdown": [
       "1. 9178\n",
       "2. 25\n",
       "\n",
       "\n"
      ],
      "text/plain": [
       "[1] 9178   25"
      ]
     },
     "metadata": {},
     "output_type": "display_data"
    }
   ],
   "source": [
    "negativeWords <- analyseText(negativeSubset$text)\n",
    "head(negativeWords)\n",
    "dim(negativeWords) #=> (9178, 27)"
   ]
  },
  {
   "cell_type": "code",
   "execution_count": 108,
   "id": "acf06cda",
   "metadata": {},
   "outputs": [
    {
     "data": {
      "text/html": [
       "<table class=\"dataframe\">\n",
       "<caption>A data.frame: 6 × 4</caption>\n",
       "<thead>\n",
       "\t<tr><th></th><th scope=col>airline_sentiment</th><th scope=col>negativereason</th><th scope=col>airline</th><th scope=col>text</th></tr>\n",
       "\t<tr><th></th><th scope=col>&lt;chr&gt;</th><th scope=col>&lt;chr&gt;</th><th scope=col>&lt;chr&gt;</th><th scope=col>&lt;chr&gt;</th></tr>\n",
       "</thead>\n",
       "<tbody>\n",
       "\t<tr><th scope=row>4</th><td>negative</td><td>Bad Flight </td><td>Virgin America</td><td>  it's really aggressive to blast obnoxious \"entertainment\" in your guests' faces  they have little recourse                </td></tr>\n",
       "\t<tr><th scope=row>5</th><td>negative</td><td>Can't Tell </td><td>Virgin America</td><td>  and it's a really big bad thing about it                                                                                  </td></tr>\n",
       "\t<tr><th scope=row>6</th><td>negative</td><td>Can't Tell </td><td>Virgin America</td><td>  seriously would pay $30 a flight for seats that didn't have this playing.\n",
       "it's really the only bad thing about flying VA </td></tr>\n",
       "\t<tr><th scope=row>16</th><td>negative</td><td>Late Flight</td><td>Virgin America</td><td>  SFO-PDX schedule is still MIA.                                                                                            </td></tr>\n",
       "\t<tr><th scope=row>18</th><td>negative</td><td>Bad Flight </td><td>Virgin America</td><td>   I flew from NYC to SFO last week and couldn't fully sit in my seat due to two large gentleman on either side of me. HELP!</td></tr>\n",
       "\t<tr><th scope=row>21</th><td>negative</td><td>Can't Tell </td><td>Virgin America</td><td>  why are your first fares in May over three times more than other carriers when all seats are available to select???       </td></tr>\n",
       "</tbody>\n",
       "</table>\n"
      ],
      "text/latex": [
       "A data.frame: 6 × 4\n",
       "\\begin{tabular}{r|llll}\n",
       "  & airline\\_sentiment & negativereason & airline & text\\\\\n",
       "  & <chr> & <chr> & <chr> & <chr>\\\\\n",
       "\\hline\n",
       "\t4 & negative & Bad Flight  & Virgin America &   it's really aggressive to blast obnoxious \"entertainment\" in your guests' faces  they have little recourse                \\\\\n",
       "\t5 & negative & Can't Tell  & Virgin America &   and it's a really big bad thing about it                                                                                  \\\\\n",
       "\t6 & negative & Can't Tell  & Virgin America &   seriously would pay \\$30 a flight for seats that didn't have this playing.\n",
       "it's really the only bad thing about flying VA \\\\\n",
       "\t16 & negative & Late Flight & Virgin America &   SFO-PDX schedule is still MIA.                                                                                            \\\\\n",
       "\t18 & negative & Bad Flight  & Virgin America &    I flew from NYC to SFO last week and couldn't fully sit in my seat due to two large gentleman on either side of me. HELP!\\\\\n",
       "\t21 & negative & Can't Tell  & Virgin America &   why are your first fares in May over three times more than other carriers when all seats are available to select???       \\\\\n",
       "\\end{tabular}\n"
      ],
      "text/markdown": [
       "\n",
       "A data.frame: 6 × 4\n",
       "\n",
       "| <!--/--> | airline_sentiment &lt;chr&gt; | negativereason &lt;chr&gt; | airline &lt;chr&gt; | text &lt;chr&gt; |\n",
       "|---|---|---|---|---|\n",
       "| 4 | negative | Bad Flight  | Virgin America |   it's really aggressive to blast obnoxious \"entertainment\" in your guests' faces  they have little recourse                 |\n",
       "| 5 | negative | Can't Tell  | Virgin America |   and it's a really big bad thing about it                                                                                   |\n",
       "| 6 | negative | Can't Tell  | Virgin America |   seriously would pay $30 a flight for seats that didn't have this playing.\n",
       "it's really the only bad thing about flying VA  |\n",
       "| 16 | negative | Late Flight | Virgin America |   SFO-PDX schedule is still MIA.                                                                                             |\n",
       "| 18 | negative | Bad Flight  | Virgin America |    I flew from NYC to SFO last week and couldn't fully sit in my seat due to two large gentleman on either side of me. HELP! |\n",
       "| 21 | negative | Can't Tell  | Virgin America |   why are your first fares in May over three times more than other carriers when all seats are available to select???        |\n",
       "\n"
      ],
      "text/plain": [
       "   airline_sentiment negativereason airline       \n",
       "4  negative          Bad Flight     Virgin America\n",
       "5  negative          Can't Tell     Virgin America\n",
       "6  negative          Can't Tell     Virgin America\n",
       "16 negative          Late Flight    Virgin America\n",
       "18 negative          Bad Flight     Virgin America\n",
       "21 negative          Can't Tell     Virgin America\n",
       "   text                                                                                                                        \n",
       "4    it's really aggressive to blast obnoxious \"entertainment\" in your guests' faces  they have little recourse                \n",
       "5    and it's a really big bad thing about it                                                                                  \n",
       "6    seriously would pay $30 a flight for seats that didn't have this playing.\\nit's really the only bad thing about flying VA \n",
       "16   SFO-PDX schedule is still MIA.                                                                                            \n",
       "18    I flew from NYC to SFO last week and couldn't fully sit in my seat due to two large gentleman on either side of me. HELP!\n",
       "21   why are your first fares in May over three times more than other carriers when all seats are available to select???       "
      ]
     },
     "metadata": {},
     "output_type": "display_data"
    }
   ],
   "source": [
    "head(negativeSubset)"
   ]
  },
  {
   "cell_type": "code",
   "execution_count": 109,
   "id": "46183b6d",
   "metadata": {},
   "outputs": [],
   "source": [
    "neg_data <- negativeWords\n",
    "neg_data <- cbind(neg_data, airline = negativeSubset[,\"airline\"])  \n",
    "neg_data <- neg_data[,order(colnames(neg_data),decreasing=F)]"
   ]
  },
  {
   "cell_type": "code",
   "execution_count": 110,
   "id": "67d10346",
   "metadata": {},
   "outputs": [
    {
     "data": {
      "text/html": [
       "<table class=\"dataframe\">\n",
       "<caption>A data.frame: 6 × 26</caption>\n",
       "<thead>\n",
       "\t<tr><th></th><th scope=col>airline</th><th scope=col>back</th><th scope=col>bag</th><th scope=col>call</th><th scope=col>cancelled</th><th scope=col>customer</th><th scope=col>delayed</th><th scope=col>flight</th><th scope=col>flightled</th><th scope=col>gate</th><th scope=col>...</th><th scope=col>need</th><th scope=col>one</th><th scope=col>phone</th><th scope=col>plane</th><th scope=col>please</th><th scope=col>service</th><th scope=col>still</th><th scope=col>thank</th><th scope=col>trying</th><th scope=col>waiting</th></tr>\n",
       "\t<tr><th></th><th scope=col>&lt;chr&gt;</th><th scope=col>&lt;dbl&gt;</th><th scope=col>&lt;dbl&gt;</th><th scope=col>&lt;dbl&gt;</th><th scope=col>&lt;dbl&gt;</th><th scope=col>&lt;dbl&gt;</th><th scope=col>&lt;dbl&gt;</th><th scope=col>&lt;dbl&gt;</th><th scope=col>&lt;dbl&gt;</th><th scope=col>&lt;dbl&gt;</th><th scope=col>...</th><th scope=col>&lt;dbl&gt;</th><th scope=col>&lt;dbl&gt;</th><th scope=col>&lt;dbl&gt;</th><th scope=col>&lt;dbl&gt;</th><th scope=col>&lt;dbl&gt;</th><th scope=col>&lt;dbl&gt;</th><th scope=col>&lt;dbl&gt;</th><th scope=col>&lt;dbl&gt;</th><th scope=col>&lt;dbl&gt;</th><th scope=col>&lt;dbl&gt;</th></tr>\n",
       "</thead>\n",
       "<tbody>\n",
       "\t<tr><th scope=row>1</th><td>American      </td><td>115</td><td> 87</td><td>185</td><td>283</td><td>127</td><td> 63</td><td>689</td><td>145</td><td> 82</td><td>...</td><td>110</td><td> 94</td><td>107</td><td> 87</td><td>76</td><td>161</td><td>109</td><td> 85</td><td>65</td><td>81</td></tr>\n",
       "\t<tr><th scope=row>2</th><td>Delta         </td><td> 31</td><td> 30</td><td> 17</td><td> 47</td><td> 44</td><td> 76</td><td>350</td><td> 15</td><td> 29</td><td>...</td><td> 33</td><td> 35</td><td> 15</td><td> 67</td><td>23</td><td> 50</td><td> 52</td><td> 28</td><td>19</td><td>37</td></tr>\n",
       "\t<tr><th scope=row>3</th><td>Southwest     </td><td> 43</td><td> 36</td><td> 44</td><td>203</td><td> 90</td><td> 48</td><td>488</td><td> 97</td><td> 32</td><td>...</td><td> 49</td><td> 66</td><td> 62</td><td> 43</td><td>51</td><td> 93</td><td> 43</td><td> 46</td><td>40</td><td>26</td></tr>\n",
       "\t<tr><th scope=row>4</th><td>United        </td><td> 85</td><td>168</td><td> 55</td><td>171</td><td>180</td><td>175</td><td>882</td><td> 78</td><td>144</td><td>...</td><td> 73</td><td>128</td><td> 53</td><td>165</td><td>76</td><td>223</td><td>137</td><td>121</td><td>62</td><td>99</td></tr>\n",
       "\t<tr><th scope=row>5</th><td>US Airways    </td><td> 88</td><td> 79</td><td>141</td><td>198</td><td>159</td><td>125</td><td>824</td><td>100</td><td>118</td><td>...</td><td>101</td><td>103</td><td>115</td><td>147</td><td>93</td><td>207</td><td>132</td><td>103</td><td>88</td><td>92</td></tr>\n",
       "\t<tr><th scope=row>6</th><td>Virgin America</td><td>  7</td><td>  9</td><td>  6</td><td> 18</td><td>  4</td><td>  6</td><td> 72</td><td>  7</td><td>  2</td><td>...</td><td>  6</td><td>  7</td><td>  9</td><td>  7</td><td> 4</td><td>  6</td><td>  7</td><td>  5</td><td>14</td><td> 2</td></tr>\n",
       "</tbody>\n",
       "</table>\n"
      ],
      "text/latex": [
       "A data.frame: 6 × 26\n",
       "\\begin{tabular}{r|lllllllllllllllllllll}\n",
       "  & airline & back & bag & call & cancelled & customer & delayed & flight & flightled & gate & ... & need & one & phone & plane & please & service & still & thank & trying & waiting\\\\\n",
       "  & <chr> & <dbl> & <dbl> & <dbl> & <dbl> & <dbl> & <dbl> & <dbl> & <dbl> & <dbl> & ... & <dbl> & <dbl> & <dbl> & <dbl> & <dbl> & <dbl> & <dbl> & <dbl> & <dbl> & <dbl>\\\\\n",
       "\\hline\n",
       "\t1 & American       & 115 &  87 & 185 & 283 & 127 &  63 & 689 & 145 &  82 & ... & 110 &  94 & 107 &  87 & 76 & 161 & 109 &  85 & 65 & 81\\\\\n",
       "\t2 & Delta          &  31 &  30 &  17 &  47 &  44 &  76 & 350 &  15 &  29 & ... &  33 &  35 &  15 &  67 & 23 &  50 &  52 &  28 & 19 & 37\\\\\n",
       "\t3 & Southwest      &  43 &  36 &  44 & 203 &  90 &  48 & 488 &  97 &  32 & ... &  49 &  66 &  62 &  43 & 51 &  93 &  43 &  46 & 40 & 26\\\\\n",
       "\t4 & United         &  85 & 168 &  55 & 171 & 180 & 175 & 882 &  78 & 144 & ... &  73 & 128 &  53 & 165 & 76 & 223 & 137 & 121 & 62 & 99\\\\\n",
       "\t5 & US Airways     &  88 &  79 & 141 & 198 & 159 & 125 & 824 & 100 & 118 & ... & 101 & 103 & 115 & 147 & 93 & 207 & 132 & 103 & 88 & 92\\\\\n",
       "\t6 & Virgin America &   7 &   9 &   6 &  18 &   4 &   6 &  72 &   7 &   2 & ... &   6 &   7 &   9 &   7 &  4 &   6 &   7 &   5 & 14 &  2\\\\\n",
       "\\end{tabular}\n"
      ],
      "text/markdown": [
       "\n",
       "A data.frame: 6 × 26\n",
       "\n",
       "| <!--/--> | airline &lt;chr&gt; | back &lt;dbl&gt; | bag &lt;dbl&gt; | call &lt;dbl&gt; | cancelled &lt;dbl&gt; | customer &lt;dbl&gt; | delayed &lt;dbl&gt; | flight &lt;dbl&gt; | flightled &lt;dbl&gt; | gate &lt;dbl&gt; | ... ... | need &lt;dbl&gt; | one &lt;dbl&gt; | phone &lt;dbl&gt; | plane &lt;dbl&gt; | please &lt;dbl&gt; | service &lt;dbl&gt; | still &lt;dbl&gt; | thank &lt;dbl&gt; | trying &lt;dbl&gt; | waiting &lt;dbl&gt; |\n",
       "|---|---|---|---|---|---|---|---|---|---|---|---|---|---|---|---|---|---|---|---|---|---|\n",
       "| 1 | American       | 115 |  87 | 185 | 283 | 127 |  63 | 689 | 145 |  82 | ... | 110 |  94 | 107 |  87 | 76 | 161 | 109 |  85 | 65 | 81 |\n",
       "| 2 | Delta          |  31 |  30 |  17 |  47 |  44 |  76 | 350 |  15 |  29 | ... |  33 |  35 |  15 |  67 | 23 |  50 |  52 |  28 | 19 | 37 |\n",
       "| 3 | Southwest      |  43 |  36 |  44 | 203 |  90 |  48 | 488 |  97 |  32 | ... |  49 |  66 |  62 |  43 | 51 |  93 |  43 |  46 | 40 | 26 |\n",
       "| 4 | United         |  85 | 168 |  55 | 171 | 180 | 175 | 882 |  78 | 144 | ... |  73 | 128 |  53 | 165 | 76 | 223 | 137 | 121 | 62 | 99 |\n",
       "| 5 | US Airways     |  88 |  79 | 141 | 198 | 159 | 125 | 824 | 100 | 118 | ... | 101 | 103 | 115 | 147 | 93 | 207 | 132 | 103 | 88 | 92 |\n",
       "| 6 | Virgin America |   7 |   9 |   6 |  18 |   4 |   6 |  72 |   7 |   2 | ... |   6 |   7 |   9 |   7 |  4 |   6 |   7 |   5 | 14 |  2 |\n",
       "\n"
      ],
      "text/plain": [
       "  airline        back bag call cancelled customer delayed flight flightled gate\n",
       "1 American       115   87 185  283       127       63     689    145        82 \n",
       "2 Delta           31   30  17   47        44       76     350     15        29 \n",
       "3 Southwest       43   36  44  203        90       48     488     97        32 \n",
       "4 United          85  168  55  171       180      175     882     78       144 \n",
       "5 US Airways      88   79 141  198       159      125     824    100       118 \n",
       "6 Virgin America   7    9   6   18         4        6      72      7         2 \n",
       "  ... need one phone plane please service still thank trying waiting\n",
       "1 ... 110   94 107    87   76     161     109    85   65     81     \n",
       "2 ...  33   35  15    67   23      50      52    28   19     37     \n",
       "3 ...  49   66  62    43   51      93      43    46   40     26     \n",
       "4 ...  73  128  53   165   76     223     137   121   62     99     \n",
       "5 ... 101  103 115   147   93     207     132   103   88     92     \n",
       "6 ...   6    7   9     7    4       6       7     5   14      2     "
      ]
     },
     "metadata": {},
     "output_type": "display_data"
    }
   ],
   "source": [
    "neg_data <- aggregate(.~airline , neg_data , sum)\n",
    "head(neg_data)\n",
    "#write.csv(neg_data,\"neg_data.csv\", row.names = FALSE)"
   ]
  },
  {
   "cell_type": "code",
   "execution_count": 111,
   "id": "bf9b3500",
   "metadata": {},
   "outputs": [
    {
     "data": {
      "text/html": [
       "<style>\n",
       ".dl-inline {width: auto; margin:0; padding: 0}\n",
       ".dl-inline>dt, .dl-inline>dd {float: none; width: auto; display: inline-block}\n",
       ".dl-inline>dt::after {content: \":\\0020\"; padding-right: .5ex}\n",
       ".dl-inline>dt:not(:first-of-type) {padding-left: .5ex}\n",
       "</style><dl class=dl-inline><dt>flight</dt><dd>3305</dd><dt>cancelled</dt><dd>920</dd><dt>hour</dt><dd>740</dd><dt>service</dt><dd>740</dd><dt>hours</dt><dd>653</dd><dt>help</dt><dd>610</dd></dl>\n"
      ],
      "text/latex": [
       "\\begin{description*}\n",
       "\\item[flight] 3305\n",
       "\\item[cancelled] 920\n",
       "\\item[hour] 740\n",
       "\\item[service] 740\n",
       "\\item[hours] 653\n",
       "\\item[help] 610\n",
       "\\end{description*}\n"
      ],
      "text/markdown": [
       "flight\n",
       ":   3305cancelled\n",
       ":   920hour\n",
       ":   740service\n",
       ":   740hours\n",
       ":   653help\n",
       ":   610\n",
       "\n"
      ],
      "text/plain": [
       "   flight cancelled      hour   service     hours      help \n",
       "     3305       920       740       740       653       610 "
      ]
     },
     "metadata": {},
     "output_type": "display_data"
    }
   ],
   "source": [
    "freqWords_neg <- colSums(negativeWords)\n",
    "freqWords_neg <- freqWords_neg[order(freqWords_neg, decreasing = T)]\n",
    "head(freqWords_neg)"
   ]
  },
  {
   "cell_type": "code",
   "execution_count": 112,
   "id": "d21f3b38",
   "metadata": {},
   "outputs": [
    {
     "data": {
      "image/png": "[encoded data removed]",
      "text/plain": [
       "plot without title"
      ]
     },
     "metadata": {
      "image/png": {
       "height": 600,
       "width": 900
      }
     },
     "output_type": "display_data"
    }
   ],
   "source": [
    "wordcloud(freq = as.vector(freqWords_neg), \n",
    "          words = names(freqWords_neg),\n",
    "          random.order = FALSE,\n",
    "          random.color = FALSE, \n",
    "          colors = brewer.pal(9, 'BuPu')[4:9])"
   ]
  },
  {
   "cell_type": "markdown",
   "id": "601397c5",
   "metadata": {},
   "source": [
    "    On voit que les mot les plus fréquentes sont 'flight','cancelled', 'hour', 'help' et 'service'.\n",
    "    - Les mots 'flight' est 'cancelled' est souvent liés et utilisé pour décrire L'annulation des vols.\n",
    "    - Le mot 'Hours' est utilisé par les client pour donner un sentiment négative sur le retard des vols.\n",
    "    - Le mot 'service' pour décrire le mauvais service client."
   ]
  },
  {
   "cell_type": "markdown",
   "id": "eef3ad84",
   "metadata": {},
   "source": [
    "##### 2.2.5 - Analyse des tweets neutres"
   ]
  },
  {
   "cell_type": "code",
   "execution_count": 113,
   "id": "e5c9e0a8",
   "metadata": {},
   "outputs": [
    {
     "data": {
      "text/html": [
       "<table class=\"dataframe\">\n",
       "<caption>A data.frame: 6 × 11</caption>\n",
       "<thead>\n",
       "\t<tr><th></th><th scope=col>need</th><th scope=col>know</th><th scope=col>flight</th><th scope=col>help</th><th scope=col>thank</th><th scope=col>please</th><th scope=col>cancelled</th><th scope=col>X.</th><th scope=col>tomorrow</th><th scope=col>fleek</th><th scope=col>fleets</th></tr>\n",
       "\t<tr><th></th><th scope=col>&lt;dbl&gt;</th><th scope=col>&lt;dbl&gt;</th><th scope=col>&lt;dbl&gt;</th><th scope=col>&lt;dbl&gt;</th><th scope=col>&lt;dbl&gt;</th><th scope=col>&lt;dbl&gt;</th><th scope=col>&lt;dbl&gt;</th><th scope=col>&lt;dbl&gt;</th><th scope=col>&lt;dbl&gt;</th><th scope=col>&lt;dbl&gt;</th><th scope=col>&lt;dbl&gt;</th></tr>\n",
       "</thead>\n",
       "<tbody>\n",
       "\t<tr><th scope=row>1</th><td>0</td><td>0</td><td>0</td><td>0</td><td>0</td><td>0</td><td>0</td><td>0</td><td>0</td><td>0</td><td>0</td></tr>\n",
       "\t<tr><th scope=row>2</th><td>1</td><td>0</td><td>0</td><td>0</td><td>0</td><td>0</td><td>0</td><td>0</td><td>0</td><td>0</td><td>0</td></tr>\n",
       "\t<tr><th scope=row>3</th><td>0</td><td>0</td><td>0</td><td>0</td><td>0</td><td>0</td><td>0</td><td>0</td><td>0</td><td>0</td><td>0</td></tr>\n",
       "\t<tr><th scope=row>4</th><td>0</td><td>1</td><td>0</td><td>0</td><td>0</td><td>0</td><td>0</td><td>0</td><td>0</td><td>0</td><td>0</td></tr>\n",
       "\t<tr><th scope=row>5</th><td>0</td><td>0</td><td>0</td><td>0</td><td>0</td><td>0</td><td>0</td><td>0</td><td>0</td><td>0</td><td>0</td></tr>\n",
       "\t<tr><th scope=row>6</th><td>0</td><td>0</td><td>0</td><td>0</td><td>0</td><td>0</td><td>0</td><td>0</td><td>0</td><td>0</td><td>0</td></tr>\n",
       "</tbody>\n",
       "</table>\n"
      ],
      "text/latex": [
       "A data.frame: 6 × 11\n",
       "\\begin{tabular}{r|lllllllllll}\n",
       "  & need & know & flight & help & thank & please & cancelled & X. & tomorrow & fleek & fleets\\\\\n",
       "  & <dbl> & <dbl> & <dbl> & <dbl> & <dbl> & <dbl> & <dbl> & <dbl> & <dbl> & <dbl> & <dbl>\\\\\n",
       "\\hline\n",
       "\t1 & 0 & 0 & 0 & 0 & 0 & 0 & 0 & 0 & 0 & 0 & 0\\\\\n",
       "\t2 & 1 & 0 & 0 & 0 & 0 & 0 & 0 & 0 & 0 & 0 & 0\\\\\n",
       "\t3 & 0 & 0 & 0 & 0 & 0 & 0 & 0 & 0 & 0 & 0 & 0\\\\\n",
       "\t4 & 0 & 1 & 0 & 0 & 0 & 0 & 0 & 0 & 0 & 0 & 0\\\\\n",
       "\t5 & 0 & 0 & 0 & 0 & 0 & 0 & 0 & 0 & 0 & 0 & 0\\\\\n",
       "\t6 & 0 & 0 & 0 & 0 & 0 & 0 & 0 & 0 & 0 & 0 & 0\\\\\n",
       "\\end{tabular}\n"
      ],
      "text/markdown": [
       "\n",
       "A data.frame: 6 × 11\n",
       "\n",
       "| <!--/--> | need &lt;dbl&gt; | know &lt;dbl&gt; | flight &lt;dbl&gt; | help &lt;dbl&gt; | thank &lt;dbl&gt; | please &lt;dbl&gt; | cancelled &lt;dbl&gt; | X. &lt;dbl&gt; | tomorrow &lt;dbl&gt; | fleek &lt;dbl&gt; | fleets &lt;dbl&gt; |\n",
       "|---|---|---|---|---|---|---|---|---|---|---|---|\n",
       "| 1 | 0 | 0 | 0 | 0 | 0 | 0 | 0 | 0 | 0 | 0 | 0 |\n",
       "| 2 | 1 | 0 | 0 | 0 | 0 | 0 | 0 | 0 | 0 | 0 | 0 |\n",
       "| 3 | 0 | 0 | 0 | 0 | 0 | 0 | 0 | 0 | 0 | 0 | 0 |\n",
       "| 4 | 0 | 1 | 0 | 0 | 0 | 0 | 0 | 0 | 0 | 0 | 0 |\n",
       "| 5 | 0 | 0 | 0 | 0 | 0 | 0 | 0 | 0 | 0 | 0 | 0 |\n",
       "| 6 | 0 | 0 | 0 | 0 | 0 | 0 | 0 | 0 | 0 | 0 | 0 |\n",
       "\n"
      ],
      "text/plain": [
       "  need know flight help thank please cancelled X. tomorrow fleek fleets\n",
       "1 0    0    0      0    0     0      0         0  0        0     0     \n",
       "2 1    0    0      0    0     0      0         0  0        0     0     \n",
       "3 0    0    0      0    0     0      0         0  0        0     0     \n",
       "4 0    1    0      0    0     0      0         0  0        0     0     \n",
       "5 0    0    0      0    0     0      0         0  0        0     0     \n",
       "6 0    0    0      0    0     0      0         0  0        0     0     "
      ]
     },
     "metadata": {},
     "output_type": "display_data"
    },
    {
     "data": {
      "text/html": [
       "<style>\n",
       ".list-inline {list-style: none; margin:0; padding: 0}\n",
       ".list-inline>li {display: inline-block}\n",
       ".list-inline>li:not(:last-child)::after {content: \"\\00b7\"; padding: 0 .5ex}\n",
       "</style>\n",
       "<ol class=list-inline><li>3099</li><li>11</li></ol>\n"
      ],
      "text/latex": [
       "\\begin{enumerate*}\n",
       "\\item 3099\n",
       "\\item 11\n",
       "\\end{enumerate*}\n"
      ],
      "text/markdown": [
       "1. 3099\n",
       "2. 11\n",
       "\n",
       "\n"
      ],
      "text/plain": [
       "[1] 3099   11"
      ]
     },
     "metadata": {},
     "output_type": "display_data"
    }
   ],
   "source": [
    "neutralWords <- analyseText(neutralSubset$text)\n",
    "head(neutralWords)\n",
    "dim(neutralWords) #=> (3099, 11)"
   ]
  },
  {
   "cell_type": "code",
   "execution_count": 114,
   "id": "fd4e082d",
   "metadata": {},
   "outputs": [
    {
     "data": {
      "text/html": [
       "<style>\n",
       ".dl-inline {width: auto; margin:0; padding: 0}\n",
       ".dl-inline>dt, .dl-inline>dd {float: none; width: auto; display: inline-block}\n",
       ".dl-inline>dt::after {content: \":\\0020\"; padding-right: .5ex}\n",
       ".dl-inline>dt:not(:first-of-type) {padding-left: .5ex}\n",
       "</style><dl class=dl-inline><dt>flight</dt><dd>764</dd><dt>thank</dt><dd>223</dd><dt>please</dt><dd>179</dd><dt>need</dt><dd>163</dd><dt>help</dt><dd>160</dd><dt>fleek</dt><dd>107</dd></dl>\n"
      ],
      "text/latex": [
       "\\begin{description*}\n",
       "\\item[flight] 764\n",
       "\\item[thank] 223\n",
       "\\item[please] 179\n",
       "\\item[need] 163\n",
       "\\item[help] 160\n",
       "\\item[fleek] 107\n",
       "\\end{description*}\n"
      ],
      "text/markdown": [
       "flight\n",
       ":   764thank\n",
       ":   223please\n",
       ":   179need\n",
       ":   163help\n",
       ":   160fleek\n",
       ":   107\n",
       "\n"
      ],
      "text/plain": [
       "flight  thank please   need   help  fleek \n",
       "   764    223    179    163    160    107 "
      ]
     },
     "metadata": {},
     "output_type": "display_data"
    }
   ],
   "source": [
    "freqWords_neutres <- colSums(neutralWords)\n",
    "freqWords_neutres <- freqWords_neutres[order(freqWords_neutres, decreasing = T)]\n",
    "head(freqWords_neutres)"
   ]
  },
  {
   "cell_type": "markdown",
   "id": "c465ef45",
   "metadata": {},
   "source": [
    "    Pour les commentaires neutres, les mots fréquents sont \"thank\", \"please\", \"need\", \"help\". Cela signifie que les clients\n",
    "    donne des sentiments neutres car ces mots ne sont pas totalement positifs ou négatifs, au contraire les clients aiment \n",
    "    voir des changements de la part de ces compagnies aériennes."
   ]
  },
  {
   "cell_type": "markdown",
   "id": "a6917090",
   "metadata": {},
   "source": [
    "## 3 - Analyse"
   ]
  },
  {
   "cell_type": "markdown",
   "id": "5b94477f",
   "metadata": {},
   "source": [
    "### 3.1- AFC : Quelles compagnies aériennes sont les plus commentées négativement et positivement? "
   ]
  },
  {
   "cell_type": "markdown",
   "id": "000591e5",
   "metadata": {},
   "source": [
    "    On applique l'AFC sur les variables : airline_sentiment et airline \n",
    "    On met en lignes les compagnies aériennes et en colonnes les modalités de la variable  airline_sentiment [negative, \n",
    "    positive, neutral], et on construit le tableau de contingence et faire l’étude pour répondre à la question suivante: \n",
    "    Quelles compagnies aériennes sont les plus commentées négativement et positivement? "
   ]
  },
  {
   "cell_type": "code",
   "execution_count": 115,
   "id": "d654c1d6",
   "metadata": {},
   "outputs": [],
   "source": [
    "count_airline_sentiment <- tweets %>% group_by(airline, airline_sentiment) %>% count()"
   ]
  },
  {
   "cell_type": "code",
   "execution_count": 116,
   "id": "44f1f1e7",
   "metadata": {},
   "outputs": [
    {
     "data": {
      "text/html": [
       "<table class=\"dataframe\">\n",
       "<caption>A data.frame: 6 × 4</caption>\n",
       "<thead>\n",
       "\t<tr><th scope=col>airline</th><th scope=col>negative</th><th scope=col>neutral</th><th scope=col>positive</th></tr>\n",
       "\t<tr><th scope=col>&lt;chr&gt;</th><th scope=col>&lt;int&gt;</th><th scope=col>&lt;int&gt;</th><th scope=col>&lt;int&gt;</th></tr>\n",
       "</thead>\n",
       "<tbody>\n",
       "\t<tr><td>American      </td><td>1960</td><td>463</td><td>336</td></tr>\n",
       "\t<tr><td>Delta         </td><td> 955</td><td>723</td><td>544</td></tr>\n",
       "\t<tr><td>Southwest     </td><td>1186</td><td>664</td><td>570</td></tr>\n",
       "\t<tr><td>United        </td><td>2633</td><td>697</td><td>492</td></tr>\n",
       "\t<tr><td>US Airways    </td><td>2263</td><td>381</td><td>269</td></tr>\n",
       "\t<tr><td>Virgin America</td><td> 181</td><td>171</td><td>152</td></tr>\n",
       "</tbody>\n",
       "</table>\n"
      ],
      "text/latex": [
       "A data.frame: 6 × 4\n",
       "\\begin{tabular}{llll}\n",
       " airline & negative & neutral & positive\\\\\n",
       " <chr> & <int> & <int> & <int>\\\\\n",
       "\\hline\n",
       "\t American       & 1960 & 463 & 336\\\\\n",
       "\t Delta          &  955 & 723 & 544\\\\\n",
       "\t Southwest      & 1186 & 664 & 570\\\\\n",
       "\t United         & 2633 & 697 & 492\\\\\n",
       "\t US Airways     & 2263 & 381 & 269\\\\\n",
       "\t Virgin America &  181 & 171 & 152\\\\\n",
       "\\end{tabular}\n"
      ],
      "text/markdown": [
       "\n",
       "A data.frame: 6 × 4\n",
       "\n",
       "| airline &lt;chr&gt; | negative &lt;int&gt; | neutral &lt;int&gt; | positive &lt;int&gt; |\n",
       "|---|---|---|---|\n",
       "| American       | 1960 | 463 | 336 |\n",
       "| Delta          |  955 | 723 | 544 |\n",
       "| Southwest      | 1186 | 664 | 570 |\n",
       "| United         | 2633 | 697 | 492 |\n",
       "| US Airways     | 2263 | 381 | 269 |\n",
       "| Virgin America |  181 | 171 | 152 |\n",
       "\n"
      ],
      "text/plain": [
       "  airline        negative neutral positive\n",
       "1 American       1960     463     336     \n",
       "2 Delta           955     723     544     \n",
       "3 Southwest      1186     664     570     \n",
       "4 United         2633     697     492     \n",
       "5 US Airways     2263     381     269     \n",
       "6 Virgin America  181     171     152     "
      ]
     },
     "metadata": {},
     "output_type": "display_data"
    }
   ],
   "source": [
    "data1 <- read.csv(\"airline_by_airline_sentiment.csv\")\n",
    "data1"
   ]
  },
  {
   "cell_type": "code",
   "execution_count": 117,
   "id": "d76728e8",
   "metadata": {},
   "outputs": [
    {
     "data": {
      "text/plain": [
       "**Results of the Correspondence Analysis (CA)**\n",
       "The row variable has  6  categories; the column variable has 3 categories\n",
       "The chi square of independence between the two variables is equal to 1154.028 (p-value =  1.184312e-241 ).\n",
       "*The results are available in the following objects:\n",
       "\n",
       "   name               description                                \n",
       "1  \"$eig\"             \"eigenvalues\"                              \n",
       "2  \"$col\"             \"results for the columns\"                  \n",
       "3  \"$col$coord\"       \"coord. for the columns\"                   \n",
       "4  \"$col$cos2\"        \"cos2 for the columns\"                     \n",
       "5  \"$col$contrib\"     \"contributions of the columns\"             \n",
       "6  \"$row\"             \"results for the rows\"                     \n",
       "7  \"$row$coord\"       \"coord. for the rows\"                      \n",
       "8  \"$row$cos2\"        \"cos2 for the rows\"                        \n",
       "9  \"$row$contrib\"     \"contributions of the rows\"                \n",
       "10 \"$quali.sup$coord\" \"coord. for supplementary categorical var.\"\n",
       "11 \"$quali.sup$cos2\"  \"cos2 for supplementary categorical var.\"  \n",
       "12 \"$call\"            \"summary called parameters\"                \n",
       "13 \"$call$marge.col\"  \"weights of the columns\"                   \n",
       "14 \"$call$marge.row\"  \"weights of the rows\"                      "
      ]
     },
     "metadata": {},
     "output_type": "display_data"
    }
   ],
   "source": [
    "res1.ca<-CA(data1,quali.sup=c(1),graph=F)\n",
    "res1.ca"
   ]
  },
  {
   "cell_type": "markdown",
   "id": "805949f5",
   "metadata": {},
   "source": [
    "    Pour interpréter l’AFC, Il faut tout d'abord évaluer s’il existe une dépendance significative entre les lignes et les \n",
    "    colonnes.\n",
    "    => L'association est très significative car le test d'independance de chi_deux = 1154.028 (p-value =  1.184312e-241)."
   ]
  },
  {
   "cell_type": "code",
   "execution_count": 118,
   "id": "32a1540a",
   "metadata": {},
   "outputs": [
    {
     "data": {
      "image/png": "[encoded data removed]",
      "text/plain": [
       "plot without title"
      ]
     },
     "metadata": {
      "image/png": {
       "height": 600,
       "width": 900
      }
     },
     "output_type": "display_data"
    }
   ],
   "source": [
    "plot.CA(res1.ca,col.quali.sup='blue')"
   ]
  },
  {
   "cell_type": "markdown",
   "id": "59b167e8",
   "metadata": {},
   "source": [
    "### - Intérpretations\n",
    "    - Les compagnies avec un profil similaire sont reproupées.\n",
    "    - Les compagnies qui sont loin de l’origine sont bien représentés sur le graphique ( Virgin America par exemple).\n",
    "    - Les commentaires négatifs sont associés le plus aux compagnies aériennes \"Us Airways\", \"American\" et \"United\"\n",
    "    - Les commentaires positifs sont associés le plus à \"Virgin America\"\n",
    "    - Les commentaires neutres sont associés le plus à \"Southwest\" et \"Delta\""
   ]
  },
  {
   "cell_type": "markdown",
   "id": "b4bf5a71",
   "metadata": {},
   "source": [
    "### 3.2 - AFC  -  Analyse des tweets négatifs"
   ]
  },
  {
   "cell_type": "markdown",
   "id": "c5b6abc7",
   "metadata": {},
   "source": [
    "      On applique les variables « airline » et « texte ». On construit un tableau lexical, on met en lignes les compagnies \n",
    "      aériennes et en colonnes les mots qui représente un sentiment négatif extraits à partir du variable \"texte\".Ce \n",
    "      tableau présente le nombre de fois que chaque mot a été utilisé par les clients pour décrire leur expérience dans les \n",
    "      vols."
   ]
  },
  {
   "cell_type": "code",
   "execution_count": 119,
   "id": "ddadbd0a",
   "metadata": {},
   "outputs": [
    {
     "data": {
      "text/html": [
       "<table class=\"dataframe\">\n",
       "<caption>A data.frame: 6 × 26</caption>\n",
       "<thead>\n",
       "\t<tr><th scope=col>airline</th><th scope=col>back</th><th scope=col>bag</th><th scope=col>call</th><th scope=col>cancelled</th><th scope=col>customer</th><th scope=col>delayed</th><th scope=col>flight</th><th scope=col>flightled</th><th scope=col>gate</th><th scope=col>...</th><th scope=col>need</th><th scope=col>one</th><th scope=col>phone</th><th scope=col>plane</th><th scope=col>please</th><th scope=col>service</th><th scope=col>still</th><th scope=col>thank</th><th scope=col>trying</th><th scope=col>waiting</th></tr>\n",
       "\t<tr><th scope=col>&lt;chr&gt;</th><th scope=col>&lt;dbl&gt;</th><th scope=col>&lt;dbl&gt;</th><th scope=col>&lt;dbl&gt;</th><th scope=col>&lt;dbl&gt;</th><th scope=col>&lt;dbl&gt;</th><th scope=col>&lt;dbl&gt;</th><th scope=col>&lt;dbl&gt;</th><th scope=col>&lt;dbl&gt;</th><th scope=col>&lt;dbl&gt;</th><th scope=col>...</th><th scope=col>&lt;dbl&gt;</th><th scope=col>&lt;dbl&gt;</th><th scope=col>&lt;dbl&gt;</th><th scope=col>&lt;dbl&gt;</th><th scope=col>&lt;dbl&gt;</th><th scope=col>&lt;dbl&gt;</th><th scope=col>&lt;dbl&gt;</th><th scope=col>&lt;dbl&gt;</th><th scope=col>&lt;dbl&gt;</th><th scope=col>&lt;dbl&gt;</th></tr>\n",
       "</thead>\n",
       "<tbody>\n",
       "\t<tr><td>American      </td><td>115</td><td> 87</td><td>185</td><td>283</td><td>127</td><td> 63</td><td>689</td><td>145</td><td> 82</td><td>...</td><td>110</td><td> 94</td><td>107</td><td> 87</td><td>76</td><td>161</td><td>109</td><td> 85</td><td>65</td><td>81</td></tr>\n",
       "\t<tr><td>Delta         </td><td> 31</td><td> 30</td><td> 17</td><td> 47</td><td> 44</td><td> 76</td><td>350</td><td> 15</td><td> 29</td><td>...</td><td> 33</td><td> 35</td><td> 15</td><td> 67</td><td>23</td><td> 50</td><td> 52</td><td> 28</td><td>19</td><td>37</td></tr>\n",
       "\t<tr><td>Southwest     </td><td> 43</td><td> 36</td><td> 44</td><td>203</td><td> 90</td><td> 48</td><td>488</td><td> 97</td><td> 32</td><td>...</td><td> 49</td><td> 66</td><td> 62</td><td> 43</td><td>51</td><td> 93</td><td> 43</td><td> 46</td><td>40</td><td>26</td></tr>\n",
       "\t<tr><td>United        </td><td> 85</td><td>168</td><td> 55</td><td>171</td><td>180</td><td>175</td><td>882</td><td> 78</td><td>144</td><td>...</td><td> 73</td><td>128</td><td> 53</td><td>165</td><td>76</td><td>223</td><td>137</td><td>121</td><td>62</td><td>99</td></tr>\n",
       "\t<tr><td>US Airways    </td><td> 88</td><td> 79</td><td>141</td><td>198</td><td>159</td><td>125</td><td>824</td><td>100</td><td>118</td><td>...</td><td>101</td><td>103</td><td>115</td><td>147</td><td>93</td><td>207</td><td>132</td><td>103</td><td>88</td><td>92</td></tr>\n",
       "\t<tr><td>Virgin America</td><td>  7</td><td>  9</td><td>  6</td><td> 18</td><td>  4</td><td>  6</td><td> 72</td><td>  7</td><td>  2</td><td>...</td><td>  6</td><td>  7</td><td>  9</td><td>  7</td><td> 4</td><td>  6</td><td>  7</td><td>  5</td><td>14</td><td> 2</td></tr>\n",
       "</tbody>\n",
       "</table>\n"
      ],
      "text/latex": [
       "A data.frame: 6 × 26\n",
       "\\begin{tabular}{lllllllllllllllllllll}\n",
       " airline & back & bag & call & cancelled & customer & delayed & flight & flightled & gate & ... & need & one & phone & plane & please & service & still & thank & trying & waiting\\\\\n",
       " <chr> & <dbl> & <dbl> & <dbl> & <dbl> & <dbl> & <dbl> & <dbl> & <dbl> & <dbl> & ... & <dbl> & <dbl> & <dbl> & <dbl> & <dbl> & <dbl> & <dbl> & <dbl> & <dbl> & <dbl>\\\\\n",
       "\\hline\n",
       "\t American       & 115 &  87 & 185 & 283 & 127 &  63 & 689 & 145 &  82 & ... & 110 &  94 & 107 &  87 & 76 & 161 & 109 &  85 & 65 & 81\\\\\n",
       "\t Delta          &  31 &  30 &  17 &  47 &  44 &  76 & 350 &  15 &  29 & ... &  33 &  35 &  15 &  67 & 23 &  50 &  52 &  28 & 19 & 37\\\\\n",
       "\t Southwest      &  43 &  36 &  44 & 203 &  90 &  48 & 488 &  97 &  32 & ... &  49 &  66 &  62 &  43 & 51 &  93 &  43 &  46 & 40 & 26\\\\\n",
       "\t United         &  85 & 168 &  55 & 171 & 180 & 175 & 882 &  78 & 144 & ... &  73 & 128 &  53 & 165 & 76 & 223 & 137 & 121 & 62 & 99\\\\\n",
       "\t US Airways     &  88 &  79 & 141 & 198 & 159 & 125 & 824 & 100 & 118 & ... & 101 & 103 & 115 & 147 & 93 & 207 & 132 & 103 & 88 & 92\\\\\n",
       "\t Virgin America &   7 &   9 &   6 &  18 &   4 &   6 &  72 &   7 &   2 & ... &   6 &   7 &   9 &   7 &  4 &   6 &   7 &   5 & 14 &  2\\\\\n",
       "\\end{tabular}\n"
      ],
      "text/markdown": [
       "\n",
       "A data.frame: 6 × 26\n",
       "\n",
       "| airline &lt;chr&gt; | back &lt;dbl&gt; | bag &lt;dbl&gt; | call &lt;dbl&gt; | cancelled &lt;dbl&gt; | customer &lt;dbl&gt; | delayed &lt;dbl&gt; | flight &lt;dbl&gt; | flightled &lt;dbl&gt; | gate &lt;dbl&gt; | ... ... | need &lt;dbl&gt; | one &lt;dbl&gt; | phone &lt;dbl&gt; | plane &lt;dbl&gt; | please &lt;dbl&gt; | service &lt;dbl&gt; | still &lt;dbl&gt; | thank &lt;dbl&gt; | trying &lt;dbl&gt; | waiting &lt;dbl&gt; |\n",
       "|---|---|---|---|---|---|---|---|---|---|---|---|---|---|---|---|---|---|---|---|---|\n",
       "| American       | 115 |  87 | 185 | 283 | 127 |  63 | 689 | 145 |  82 | ... | 110 |  94 | 107 |  87 | 76 | 161 | 109 |  85 | 65 | 81 |\n",
       "| Delta          |  31 |  30 |  17 |  47 |  44 |  76 | 350 |  15 |  29 | ... |  33 |  35 |  15 |  67 | 23 |  50 |  52 |  28 | 19 | 37 |\n",
       "| Southwest      |  43 |  36 |  44 | 203 |  90 |  48 | 488 |  97 |  32 | ... |  49 |  66 |  62 |  43 | 51 |  93 |  43 |  46 | 40 | 26 |\n",
       "| United         |  85 | 168 |  55 | 171 | 180 | 175 | 882 |  78 | 144 | ... |  73 | 128 |  53 | 165 | 76 | 223 | 137 | 121 | 62 | 99 |\n",
       "| US Airways     |  88 |  79 | 141 | 198 | 159 | 125 | 824 | 100 | 118 | ... | 101 | 103 | 115 | 147 | 93 | 207 | 132 | 103 | 88 | 92 |\n",
       "| Virgin America |   7 |   9 |   6 |  18 |   4 |   6 |  72 |   7 |   2 | ... |   6 |   7 |   9 |   7 |  4 |   6 |   7 |   5 | 14 |  2 |\n",
       "\n"
      ],
      "text/plain": [
       "  airline        back bag call cancelled customer delayed flight flightled gate\n",
       "1 American       115   87 185  283       127       63     689    145        82 \n",
       "2 Delta           31   30  17   47        44       76     350     15        29 \n",
       "3 Southwest       43   36  44  203        90       48     488     97        32 \n",
       "4 United          85  168  55  171       180      175     882     78       144 \n",
       "5 US Airways      88   79 141  198       159      125     824    100       118 \n",
       "6 Virgin America   7    9   6   18         4        6      72      7         2 \n",
       "  ... need one phone plane please service still thank trying waiting\n",
       "1 ... 110   94 107    87   76     161     109    85   65     81     \n",
       "2 ...  33   35  15    67   23      50      52    28   19     37     \n",
       "3 ...  49   66  62    43   51      93      43    46   40     26     \n",
       "4 ...  73  128  53   165   76     223     137   121   62     99     \n",
       "5 ... 101  103 115   147   93     207     132   103   88     92     \n",
       "6 ...   6    7   9     7    4       6       7     5   14      2     "
      ]
     },
     "metadata": {},
     "output_type": "display_data"
    }
   ],
   "source": [
    "neg_data"
   ]
  },
  {
   "cell_type": "code",
   "execution_count": 120,
   "id": "2c1afcda",
   "metadata": {},
   "outputs": [
    {
     "data": {
      "text/plain": [
       "**Results of the Correspondence Analysis (CA)**\n",
       "The row variable has  6  categories; the column variable has 25 categories\n",
       "The chi square of independence between the two variables is equal to 995.1714 (p-value =  8.494593e-138 ).\n",
       "*The results are available in the following objects:\n",
       "\n",
       "   name               description                                \n",
       "1  \"$eig\"             \"eigenvalues\"                              \n",
       "2  \"$col\"             \"results for the columns\"                  \n",
       "3  \"$col$coord\"       \"coord. for the columns\"                   \n",
       "4  \"$col$cos2\"        \"cos2 for the columns\"                     \n",
       "5  \"$col$contrib\"     \"contributions of the columns\"             \n",
       "6  \"$row\"             \"results for the rows\"                     \n",
       "7  \"$row$coord\"       \"coord. for the rows\"                      \n",
       "8  \"$row$cos2\"        \"cos2 for the rows\"                        \n",
       "9  \"$row$contrib\"     \"contributions of the rows\"                \n",
       "10 \"$quali.sup$coord\" \"coord. for supplementary categorical var.\"\n",
       "11 \"$quali.sup$cos2\"  \"cos2 for supplementary categorical var.\"  \n",
       "12 \"$call\"            \"summary called parameters\"                \n",
       "13 \"$call$marge.col\"  \"weights of the columns\"                   \n",
       "14 \"$call$marge.row\"  \"weights of the rows\"                      "
      ]
     },
     "metadata": {},
     "output_type": "display_data"
    }
   ],
   "source": [
    "res2.ca<-CA(neg_data,quali.sup=c(1),graph=F)\n",
    "res2.ca"
   ]
  },
  {
   "cell_type": "markdown",
   "id": "4d2cf247",
   "metadata": {},
   "source": [
    "### 3.2.1 - Visualisation et interprétation"
   ]
  },
  {
   "cell_type": "markdown",
   "id": "9f6d24c5",
   "metadata": {},
   "source": [
    "#### a - Significativité statistique\n",
    "     L'association est très significative car le test d'independance de chi_deux = 985.4679 (p-value =  2.916651e-138 )."
   ]
  },
  {
   "cell_type": "markdown",
   "id": "e22f80c1",
   "metadata": {},
   "source": [
    "#### b - Valeurs propres / Variances"
   ]
  },
  {
   "cell_type": "code",
   "execution_count": 121,
   "id": "64935caa",
   "metadata": {},
   "outputs": [
    {
     "data": {
      "text/html": [
       "<table class=\"dataframe\">\n",
       "<caption>A matrix: 5 × 3 of type dbl</caption>\n",
       "<thead>\n",
       "\t<tr><th></th><th scope=col>eigenvalue</th><th scope=col>variance.percent</th><th scope=col>cumulative.variance.percent</th></tr>\n",
       "</thead>\n",
       "<tbody>\n",
       "\t<tr><th scope=row>Dim.1</th><td>0.039914439</td><td>59.817229</td><td> 59.81723</td></tr>\n",
       "\t<tr><th scope=row>Dim.2</th><td>0.011464375</td><td>17.180929</td><td> 76.99816</td></tr>\n",
       "\t<tr><th scope=row>Dim.3</th><td>0.007748440</td><td>11.612094</td><td> 88.61025</td></tr>\n",
       "\t<tr><th scope=row>Dim.4</th><td>0.004812709</td><td> 7.212500</td><td> 95.82275</td></tr>\n",
       "\t<tr><th scope=row>Dim.5</th><td>0.002787366</td><td> 4.177248</td><td>100.00000</td></tr>\n",
       "</tbody>\n",
       "</table>\n"
      ],
      "text/latex": [
       "A matrix: 5 × 3 of type dbl\n",
       "\\begin{tabular}{r|lll}\n",
       "  & eigenvalue & variance.percent & cumulative.variance.percent\\\\\n",
       "\\hline\n",
       "\tDim.1 & 0.039914439 & 59.817229 &  59.81723\\\\\n",
       "\tDim.2 & 0.011464375 & 17.180929 &  76.99816\\\\\n",
       "\tDim.3 & 0.007748440 & 11.612094 &  88.61025\\\\\n",
       "\tDim.4 & 0.004812709 &  7.212500 &  95.82275\\\\\n",
       "\tDim.5 & 0.002787366 &  4.177248 & 100.00000\\\\\n",
       "\\end{tabular}\n"
      ],
      "text/markdown": [
       "\n",
       "A matrix: 5 × 3 of type dbl\n",
       "\n",
       "| <!--/--> | eigenvalue | variance.percent | cumulative.variance.percent |\n",
       "|---|---|---|---|\n",
       "| Dim.1 | 0.039914439 | 59.817229 |  59.81723 |\n",
       "| Dim.2 | 0.011464375 | 17.180929 |  76.99816 |\n",
       "| Dim.3 | 0.007748440 | 11.612094 |  88.61025 |\n",
       "| Dim.4 | 0.004812709 |  7.212500 |  95.82275 |\n",
       "| Dim.5 | 0.002787366 |  4.177248 | 100.00000 |\n",
       "\n"
      ],
      "text/plain": [
       "      eigenvalue  variance.percent cumulative.variance.percent\n",
       "Dim.1 0.039914439 59.817229         59.81723                  \n",
       "Dim.2 0.011464375 17.180929         76.99816                  \n",
       "Dim.3 0.007748440 11.612094         88.61025                  \n",
       "Dim.4 0.004812709  7.212500         95.82275                  \n",
       "Dim.5 0.002787366  4.177248        100.00000                  "
      ]
     },
     "metadata": {},
     "output_type": "display_data"
    }
   ],
   "source": [
    "eig.val <- get_eigenvalue (res2.ca)\n",
    "eig.val"
   ]
  },
  {
   "cell_type": "markdown",
   "id": "eeeccc6c",
   "metadata": {},
   "source": [
    "    La première et la deuxième dimension vont expliquer 77.12% de l’information, cette valeur est supérieure à la valeur \n",
    "    référence 75% ce qui est acceptable."
   ]
  },
  {
   "cell_type": "markdown",
   "id": "2aed7147",
   "metadata": {},
   "source": [
    "#### c - Pourcentage des variances"
   ]
  },
  {
   "cell_type": "code",
   "execution_count": 122,
   "id": "243ee090",
   "metadata": {},
   "outputs": [
    {
     "data": {
      "image/png": "[encoded data removed]",
      "text/plain": [
       "plot without title"
      ]
     },
     "metadata": {
      "image/png": {
       "height": 600,
       "width": 900
      }
     },
     "output_type": "display_data"
    }
   ],
   "source": [
    "fviz_eig(res2.ca, addlabels = TRUE, ylim = c(0, 65))"
   ]
  },
  {
   "cell_type": "markdown",
   "id": "b82b95ec",
   "metadata": {},
   "source": [
    "#### d - Graphe CA"
   ]
  },
  {
   "cell_type": "code",
   "execution_count": 123,
   "id": "c00e9727",
   "metadata": {},
   "outputs": [
    {
     "data": {
      "image/png": "[encoded data removed]",
      "text/plain": [
       "plot without title"
      ]
     },
     "metadata": {
      "image/png": {
       "height": 600,
       "width": 900
      }
     },
     "output_type": "display_data"
    }
   ],
   "source": [
    "plot.CA(res2.ca,col.quali.sup='blue')"
   ]
  },
  {
   "cell_type": "markdown",
   "id": "0cd81b48",
   "metadata": {},
   "source": [
    "### - Intérpretations\n",
    "    Le graphique montre que:\n",
    "    - Le mot \"cancelled\" est associé le plus à la compagnie aérienne \"American\", cela signifie que la plupart des clients \n",
    "    expriment leur mauvaise expérience dans cette compagnie par l'annulation des vols..\n",
    "    - Le mot \"waiting\" sont associés le plus à la compagnie aérienne \"United\" et Les mots \"delayed\" et \"late\" associé plus \n",
    "    à \"Delta\" et le mot \"hours\" est proche de \"Us Airways\". (raison négatif: Retard des vols)\n",
    "    - Les mots \"customer\" et \"service\" sont proches donc liées, car on trouve toujour ces mots ensemble.\n",
    "    => En résumé, la plupart des clients interrogent les compagnies aériennes sur leurs vols annulés, leur retard et leur \n",
    "    service client.\n",
    "  "
   ]
  },
  {
   "cell_type": "markdown",
   "id": "6c952641",
   "metadata": {},
   "source": [
    "#### e-  Coordonnées des points colonnes ( les mots)"
   ]
  },
  {
   "cell_type": "code",
   "execution_count": 124,
   "id": "4336607e",
   "metadata": {},
   "outputs": [
    {
     "data": {
      "text/html": [
       "<table class=\"dataframe\">\n",
       "<caption>A matrix: 6 × 5 of type dbl</caption>\n",
       "<thead>\n",
       "\t<tr><th></th><th scope=col>Dim 1</th><th scope=col>Dim 2</th><th scope=col>Dim 3</th><th scope=col>Dim 4</th><th scope=col>Dim 5</th></tr>\n",
       "</thead>\n",
       "<tbody>\n",
       "\t<tr><th scope=row>back</th><td> 0.04939822</td><td> 0.16484301</td><td> 0.06317049</td><td>-0.06017107</td><td>-0.023370111</td></tr>\n",
       "\t<tr><th scope=row>bag</th><td>-0.30566999</td><td> 0.15734254</td><td>-0.02551855</td><td> 0.14598291</td><td> 0.069484907</td></tr>\n",
       "\t<tr><th scope=row>call</th><td> 0.35104619</td><td> 0.21419622</td><td> 0.28065533</td><td>-0.05187892</td><td>-0.005276335</td></tr>\n",
       "\t<tr><th scope=row>cancelled</th><td> 0.26088904</td><td> 0.11912087</td><td>-0.14892423</td><td> 0.01877451</td><td>-0.051532259</td></tr>\n",
       "\t<tr><th scope=row>customer</th><td>-0.06141835</td><td>-0.02954017</td><td>-0.01581447</td><td> 0.10122241</td><td>-0.040962204</td></tr>\n",
       "\t<tr><th scope=row>delayed</th><td>-0.38385222</td><td>-0.11233003</td><td>-0.01948916</td><td>-0.07987057</td><td>-0.045478065</td></tr>\n",
       "</tbody>\n",
       "</table>\n"
      ],
      "text/latex": [
       "A matrix: 6 × 5 of type dbl\n",
       "\\begin{tabular}{r|lllll}\n",
       "  & Dim 1 & Dim 2 & Dim 3 & Dim 4 & Dim 5\\\\\n",
       "\\hline\n",
       "\tback &  0.04939822 &  0.16484301 &  0.06317049 & -0.06017107 & -0.023370111\\\\\n",
       "\tbag & -0.30566999 &  0.15734254 & -0.02551855 &  0.14598291 &  0.069484907\\\\\n",
       "\tcall &  0.35104619 &  0.21419622 &  0.28065533 & -0.05187892 & -0.005276335\\\\\n",
       "\tcancelled &  0.26088904 &  0.11912087 & -0.14892423 &  0.01877451 & -0.051532259\\\\\n",
       "\tcustomer & -0.06141835 & -0.02954017 & -0.01581447 &  0.10122241 & -0.040962204\\\\\n",
       "\tdelayed & -0.38385222 & -0.11233003 & -0.01948916 & -0.07987057 & -0.045478065\\\\\n",
       "\\end{tabular}\n"
      ],
      "text/markdown": [
       "\n",
       "A matrix: 6 × 5 of type dbl\n",
       "\n",
       "| <!--/--> | Dim 1 | Dim 2 | Dim 3 | Dim 4 | Dim 5 |\n",
       "|---|---|---|---|---|---|\n",
       "| back |  0.04939822 |  0.16484301 |  0.06317049 | -0.06017107 | -0.023370111 |\n",
       "| bag | -0.30566999 |  0.15734254 | -0.02551855 |  0.14598291 |  0.069484907 |\n",
       "| call |  0.35104619 |  0.21419622 |  0.28065533 | -0.05187892 | -0.005276335 |\n",
       "| cancelled |  0.26088904 |  0.11912087 | -0.14892423 |  0.01877451 | -0.051532259 |\n",
       "| customer | -0.06141835 | -0.02954017 | -0.01581447 |  0.10122241 | -0.040962204 |\n",
       "| delayed | -0.38385222 | -0.11233003 | -0.01948916 | -0.07987057 | -0.045478065 |\n",
       "\n"
      ],
      "text/plain": [
       "          Dim 1       Dim 2       Dim 3       Dim 4       Dim 5       \n",
       "back       0.04939822  0.16484301  0.06317049 -0.06017107 -0.023370111\n",
       "bag       -0.30566999  0.15734254 -0.02551855  0.14598291  0.069484907\n",
       "call       0.35104619  0.21419622  0.28065533 -0.05187892 -0.005276335\n",
       "cancelled  0.26088904  0.11912087 -0.14892423  0.01877451 -0.051532259\n",
       "customer  -0.06141835 -0.02954017 -0.01581447  0.10122241 -0.040962204\n",
       "delayed   -0.38385222 -0.11233003 -0.01948916 -0.07987057 -0.045478065"
      ]
     },
     "metadata": {},
     "output_type": "display_data"
    }
   ],
   "source": [
    "col <- get_ca_col(res2.ca)\n",
    "head(col$coord)"
   ]
  },
  {
   "cell_type": "markdown",
   "id": "6d78b007",
   "metadata": {},
   "source": [
    "#### f - Qualité de représentation des colonnes"
   ]
  },
  {
   "cell_type": "code",
   "execution_count": 125,
   "id": "ee7a3523",
   "metadata": {},
   "outputs": [
    {
     "data": {
      "text/html": [
       "<table class=\"dataframe\">\n",
       "<caption>A matrix: 6 × 5 of type dbl</caption>\n",
       "<thead>\n",
       "\t<tr><th></th><th scope=col>Dim 1</th><th scope=col>Dim 2</th><th scope=col>Dim 3</th><th scope=col>Dim 4</th><th scope=col>Dim 5</th></tr>\n",
       "</thead>\n",
       "<tbody>\n",
       "\t<tr><th scope=row>back</th><td>0.06460533</td><td>0.71942712</td><td>0.105651155</td><td>0.095856428</td><td>0.0144599660</td></tr>\n",
       "\t<tr><th scope=row>bag</th><td>0.64445706</td><td>0.17075785</td><td>0.004491594</td><td>0.146991568</td><td>0.0333019249</td></tr>\n",
       "\t<tr><th scope=row>call</th><td>0.49175326</td><td>0.18308060</td><td>0.314315140</td><td>0.010739908</td><td>0.0001110922</td></tr>\n",
       "\t<tr><th scope=row>cancelled</th><td>0.63350242</td><td>0.13207248</td><td>0.206427398</td><td>0.003280754</td><td>0.0247169546</td></tr>\n",
       "\t<tr><th scope=row>customer</th><td>0.22428542</td><td>0.05188368</td><td>0.014870107</td><td>0.609197379</td><td>0.0997634152</td></tr>\n",
       "\t<tr><th scope=row>delayed</th><td>0.87294458</td><td>0.07475673</td><td>0.002250323</td><td>0.037794804</td><td>0.0122535666</td></tr>\n",
       "</tbody>\n",
       "</table>\n"
      ],
      "text/latex": [
       "A matrix: 6 × 5 of type dbl\n",
       "\\begin{tabular}{r|lllll}\n",
       "  & Dim 1 & Dim 2 & Dim 3 & Dim 4 & Dim 5\\\\\n",
       "\\hline\n",
       "\tback & 0.06460533 & 0.71942712 & 0.105651155 & 0.095856428 & 0.0144599660\\\\\n",
       "\tbag & 0.64445706 & 0.17075785 & 0.004491594 & 0.146991568 & 0.0333019249\\\\\n",
       "\tcall & 0.49175326 & 0.18308060 & 0.314315140 & 0.010739908 & 0.0001110922\\\\\n",
       "\tcancelled & 0.63350242 & 0.13207248 & 0.206427398 & 0.003280754 & 0.0247169546\\\\\n",
       "\tcustomer & 0.22428542 & 0.05188368 & 0.014870107 & 0.609197379 & 0.0997634152\\\\\n",
       "\tdelayed & 0.87294458 & 0.07475673 & 0.002250323 & 0.037794804 & 0.0122535666\\\\\n",
       "\\end{tabular}\n"
      ],
      "text/markdown": [
       "\n",
       "A matrix: 6 × 5 of type dbl\n",
       "\n",
       "| <!--/--> | Dim 1 | Dim 2 | Dim 3 | Dim 4 | Dim 5 |\n",
       "|---|---|---|---|---|---|\n",
       "| back | 0.06460533 | 0.71942712 | 0.105651155 | 0.095856428 | 0.0144599660 |\n",
       "| bag | 0.64445706 | 0.17075785 | 0.004491594 | 0.146991568 | 0.0333019249 |\n",
       "| call | 0.49175326 | 0.18308060 | 0.314315140 | 0.010739908 | 0.0001110922 |\n",
       "| cancelled | 0.63350242 | 0.13207248 | 0.206427398 | 0.003280754 | 0.0247169546 |\n",
       "| customer | 0.22428542 | 0.05188368 | 0.014870107 | 0.609197379 | 0.0997634152 |\n",
       "| delayed | 0.87294458 | 0.07475673 | 0.002250323 | 0.037794804 | 0.0122535666 |\n",
       "\n"
      ],
      "text/plain": [
       "          Dim 1      Dim 2      Dim 3       Dim 4       Dim 5       \n",
       "back      0.06460533 0.71942712 0.105651155 0.095856428 0.0144599660\n",
       "bag       0.64445706 0.17075785 0.004491594 0.146991568 0.0333019249\n",
       "call      0.49175326 0.18308060 0.314315140 0.010739908 0.0001110922\n",
       "cancelled 0.63350242 0.13207248 0.206427398 0.003280754 0.0247169546\n",
       "customer  0.22428542 0.05188368 0.014870107 0.609197379 0.0997634152\n",
       "delayed   0.87294458 0.07475673 0.002250323 0.037794804 0.0122535666"
      ]
     },
     "metadata": {},
     "output_type": "display_data"
    }
   ],
   "source": [
    "head(col$cos2)"
   ]
  },
  {
   "cell_type": "code",
   "execution_count": 126,
   "id": "224f2dcc",
   "metadata": {},
   "outputs": [
    {
     "data": {
      "text/html": [
       "<table class=\"dataframe\">\n",
       "<caption>A matrix: 6 × 5 of type dbl</caption>\n",
       "<thead>\n",
       "\t<tr><th></th><th scope=col>Dim 1</th><th scope=col>Dim 2</th><th scope=col>Dim 3</th><th scope=col>Dim 4</th><th scope=col>Dim 5</th></tr>\n",
       "</thead>\n",
       "<tbody>\n",
       "\t<tr><th scope=row>1</th><td>0.4943165381</td><td>0.44506623</td><td>0.048802623</td><td>2.262374e-03</td><td>0.0095522351</td></tr>\n",
       "\t<tr><th scope=row>2</th><td>0.6666604671</td><td>0.01888294</td><td>0.004310506</td><td>2.713166e-01</td><td>0.0388294584</td></tr>\n",
       "\t<tr><th scope=row>3</th><td>0.5803870647</td><td>0.05887237</td><td>0.343717076</td><td>6.891966e-03</td><td>0.0101315258</td></tr>\n",
       "\t<tr><th scope=row>4</th><td>0.9190571117</td><td>0.01307022</td><td>0.004602456</td><td>6.255500e-02</td><td>0.0007152187</td></tr>\n",
       "\t<tr><th scope=row>5</th><td>0.2097738762</td><td>0.51397271</td><td>0.247638750</td><td>1.627767e-05</td><td>0.0285983824</td></tr>\n",
       "\t<tr><th scope=row>6</th><td>0.0002477612</td><td>0.16591981</td><td>0.194902630</td><td>1.680255e-01</td><td>0.4709043076</td></tr>\n",
       "</tbody>\n",
       "</table>\n"
      ],
      "text/latex": [
       "A matrix: 6 × 5 of type dbl\n",
       "\\begin{tabular}{r|lllll}\n",
       "  & Dim 1 & Dim 2 & Dim 3 & Dim 4 & Dim 5\\\\\n",
       "\\hline\n",
       "\t1 & 0.4943165381 & 0.44506623 & 0.048802623 & 2.262374e-03 & 0.0095522351\\\\\n",
       "\t2 & 0.6666604671 & 0.01888294 & 0.004310506 & 2.713166e-01 & 0.0388294584\\\\\n",
       "\t3 & 0.5803870647 & 0.05887237 & 0.343717076 & 6.891966e-03 & 0.0101315258\\\\\n",
       "\t4 & 0.9190571117 & 0.01307022 & 0.004602456 & 6.255500e-02 & 0.0007152187\\\\\n",
       "\t5 & 0.2097738762 & 0.51397271 & 0.247638750 & 1.627767e-05 & 0.0285983824\\\\\n",
       "\t6 & 0.0002477612 & 0.16591981 & 0.194902630 & 1.680255e-01 & 0.4709043076\\\\\n",
       "\\end{tabular}\n"
      ],
      "text/markdown": [
       "\n",
       "A matrix: 6 × 5 of type dbl\n",
       "\n",
       "| <!--/--> | Dim 1 | Dim 2 | Dim 3 | Dim 4 | Dim 5 |\n",
       "|---|---|---|---|---|---|\n",
       "| 1 | 0.4943165381 | 0.44506623 | 0.048802623 | 2.262374e-03 | 0.0095522351 |\n",
       "| 2 | 0.6666604671 | 0.01888294 | 0.004310506 | 2.713166e-01 | 0.0388294584 |\n",
       "| 3 | 0.5803870647 | 0.05887237 | 0.343717076 | 6.891966e-03 | 0.0101315258 |\n",
       "| 4 | 0.9190571117 | 0.01307022 | 0.004602456 | 6.255500e-02 | 0.0007152187 |\n",
       "| 5 | 0.2097738762 | 0.51397271 | 0.247638750 | 1.627767e-05 | 0.0285983824 |\n",
       "| 6 | 0.0002477612 | 0.16591981 | 0.194902630 | 1.680255e-01 | 0.4709043076 |\n",
       "\n"
      ],
      "text/plain": [
       "  Dim 1        Dim 2      Dim 3       Dim 4        Dim 5       \n",
       "1 0.4943165381 0.44506623 0.048802623 2.262374e-03 0.0095522351\n",
       "2 0.6666604671 0.01888294 0.004310506 2.713166e-01 0.0388294584\n",
       "3 0.5803870647 0.05887237 0.343717076 6.891966e-03 0.0101315258\n",
       "4 0.9190571117 0.01307022 0.004602456 6.255500e-02 0.0007152187\n",
       "5 0.2097738762 0.51397271 0.247638750 1.627767e-05 0.0285983824\n",
       "6 0.0002477612 0.16591981 0.194902630 1.680255e-01 0.4709043076"
      ]
     },
     "metadata": {},
     "output_type": "display_data"
    }
   ],
   "source": [
    "head(res2.ca$row$cos2)"
   ]
  },
  {
   "cell_type": "markdown",
   "id": "77d2c369",
   "metadata": {},
   "source": [
    "## 3.3 - Classification ascendante héarchique"
   ]
  },
  {
   "cell_type": "markdown",
   "id": "4bc53b20",
   "metadata": {},
   "source": [
    "    La classification ascendante hiérarchique (CAH) permet d'identifier les groupes d’observations similaires dans un \n",
    "    jeu de données.dans notre cas on cherche les associations entre les mots."
   ]
  },
  {
   "cell_type": "markdown",
   "id": "06c286e4",
   "metadata": {},
   "source": [
    "#### a - Pour les tweets positifs"
   ]
  },
  {
   "cell_type": "code",
   "execution_count": 127,
   "id": "7ed9aa6d",
   "metadata": {},
   "outputs": [
    {
     "data": {
      "image/png": "[encoded data removed]",
      "text/plain": [
       "Plot with title \"sentiments positifs\""
      ]
     },
     "metadata": {
      "image/png": {
       "height": 600,
       "width": 900
      }
     },
     "output_type": "display_data"
    }
   ],
   "source": [
    "# hierarchical clustering\n",
    "d <- dist(t(as.matrix(positiveWords)), method = 'euclidean')\n",
    "fit <- hclust(d = d, method = 'ward.D2')\n",
    "\n",
    "\n",
    "plot.new()\n",
    "plot(fit, hang=-1, main = 'sentiments positifs', xlab = '')\n",
    "rect.hclust(fit, k=5, border=\"red\")"
   ]
  },
  {
   "cell_type": "markdown",
   "id": "a583fd3c",
   "metadata": {},
   "source": [
    "    L'arbre issu de la classification ascendante hiérarchique, pour les tweets positifs est composé de 5 groupes et montre:\n",
    "    \n",
    "    - Une association forte entre les mots customer et service qui sont dans la même classe.\n",
    "    \n",
    "    - Les mots du groupe love good best ... sont associés, car ils expriment des sentiments positifs. parfois ils peuvents \n",
    "    être utilisé pour exprimer la qualité de service client d'un compagnie aériennes"
   ]
  },
  {
   "cell_type": "markdown",
   "id": "5d766711",
   "metadata": {},
   "source": [
    "#### b - Pour les tweets négatifs"
   ]
  },
  {
   "cell_type": "code",
   "execution_count": 128,
   "id": "cda6752d",
   "metadata": {},
   "outputs": [
    {
     "data": {
      "image/png": "[encoded data removed]",
      "text/plain": [
       "Plot with title \"sentiments négatifs\""
      ]
     },
     "metadata": {
      "image/png": {
       "height": 600,
       "width": 900
      }
     },
     "output_type": "display_data"
    }
   ],
   "source": [
    "d <- dist(t(as.matrix(negativeWords)))\n",
    "fit <- hclust(d = d, method = 'ward.D2')\n",
    "\n",
    "\n",
    "plot.new()\n",
    "plot(fit, hang=-1, main = 'sentiments négatifs', xlab = '')\n",
    "rect.hclust(fit, k=4, border=\"red\")"
   ]
  },
  {
   "cell_type": "markdown",
   "id": "d3457e28",
   "metadata": {},
   "source": [
    "    L'arbre de classification pour les sentiments négatifs montre:\n",
    "    \n",
    "    - La deuxième classe regroupe les mots \" customer\" et \"service\" et la troisième classe regroupe les mots \"cancelled\" et \n",
    "      \"flightled\", ce qui est évident car les clients utilisent ces mots pour crtiquer le mauvais service client( customer \n",
    "       service) et l'annulation des vols (cancelled flight)\n",
    "    \n",
    "    - La plupart des mots dans le quatrième groupe (delayed, still, late, waiting, hour) sont utilisés pour donner un\n",
    "    sentiment négatif par rapport au retard des vols."
   ]
  },
  {
   "cell_type": "markdown",
   "id": "d1f31fe5",
   "metadata": {},
   "source": [
    "## 4 - Conclusion"
   ]
  },
  {
   "cell_type": "markdown",
   "id": "a05a371b",
   "metadata": {},
   "source": [
    "    - En terme de conclusion, nous pouvons affirmer l'hypothèse que la majorité des tweets présentent un sentiment      \n",
    "    négatif,surtout sur les compagnies aériennes United, US Airways et American.\n",
    "    \n",
    "    - Pour les problèmes les plus courants en cas d'un mauvais vol on trouve l'annulation des vols, le retard et le mauvais \n",
    "    service client.\n",
    "    \n",
    "    - L'analyse de ce projet nous a permis de découvrire que les mots les plus utilisées pour exprimer un sentiment négatif \n",
    "    sont :\"Hour\", \"Cancelled\", \"flight\", \"Service\", \"waiting\" ... et pour les commentaires positifs on trouve : \"thanks\", \n",
    "    \"Great\", \"love\", \"amazing\", ..."
   ]
  },
  {
   "cell_type": "markdown",
   "id": "ffdad1fc",
   "metadata": {},
   "source": [
    "***\n",
    "## Références\n",
    "***\n",
    "- Jeu de données: https://www.kaggle.com/welkin10/airline-sentiment-analysis/data\n",
    "\n",
    "- Text mining avec R : http://www.sthda.com/french/wiki/text-mining-et-nuage-de-mots-avec-le-logiciel-r-5-etapes-simples-a-savoir\n",
    "\n",
    "- Cours analyse des données: Analyse Factorielle des correspondances et classification."
   ]
  }
 ],
 "metadata": {
  "kernelspec": {
   "display_name": "R",
   "language": "R",
   "name": "ir"
  },
  "language_info": {
   "codemirror_mode": "r",
   "file_extension": ".r",
   "mimetype": "text/x-r-source",
   "name": "R",
   "pygments_lexer": "r",
   "version": "4.0.5"
  }
 },
 "nbformat": 4,
 "nbformat_minor": 5
}
